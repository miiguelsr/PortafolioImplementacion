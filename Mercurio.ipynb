{
 "cells": [
  {
   "cell_type": "markdown",
   "id": "f073c104",
   "metadata": {},
   "source": [
    "# Momento de Retroalimentación: Módulo 1 Construcción de un modelo estadístico base (Portafolio Implementación)\n",
    "\n",
    "## Descripción:\n",
    "\n",
    "La contaminación por mercurio de peces en el agua dulce comestibles es una amenaza directa contra nuestra salud. Se llevó a cabo un estudio reciente en 53 lagos de Florida con el fin de examinar los factores que influían en el nivel de contaminación por mercurio. Las variables que se midieron se encuentran en mercurio.csv  Descargar mercurio.csv  y su descripción es la siguiente: \n",
    "\n",
    "Alrededor de la principal pregunta de investigación que surge en este estudio: ¿Cuáles son los principales factores que influyen en el nivel de contaminación por mercurio en los peces de los lagos de Florida? pueden surgir preguntas paralelas que desglosan esta pregunta general:\n",
    "\n",
    "1. ¿Hay evidencia para suponer que la concentración promedio de mercurio en los lagos es dañino para la salud humana? Considera que las normativas de referencia para evaluar los niveles máximos de Hg (Reglamento 34687-MAG y los reglamentos internacionales CE 1881/2006 y Codex Standard 193-1995) establecen que la concentración promedio de mercurio en productos de la pesca no debe superar los 0.5 mg de Hg/kg.\n",
    "2. ¿Habrá diferencia significativa entre la concentración de mercurio por la edad de los peces?\n",
    "3. Si el muestreo se realizó lanzando una red y analizando los peces que la red encontraba ¿Habrá influencia del número de peces encontrados en la concentración de mercurio en los peces?\n",
    "4. ¿Las concentraciones de alcalinidad, clorofila, calcio en el agua del lago influyen en la concentración de mercurio de los peces?"
   ]
  },
  {
   "cell_type": "markdown",
   "id": "5c769bf6",
   "metadata": {},
   "source": [
    "## Preparación de los datos"
   ]
  },
  {
   "cell_type": "code",
   "execution_count": 1,
   "id": "c71a960e",
   "metadata": {},
   "outputs": [],
   "source": [
    "import pandas as pd\n",
    "import numpy as np\n",
    "import matplotlib.pyplot as plt\n",
    "import seaborn as sns\n",
    "# from scipy.stats import norm\n",
    "import statsmodels.api as sm\n",
    "from scipy import stats\n",
    "# plt.style.use('ggplot')\n"
   ]
  },
  {
   "cell_type": "code",
   "execution_count": 2,
   "id": "f0b9742a",
   "metadata": {},
   "outputs": [],
   "source": [
    "df = pd.read_csv(\"mercurio.csv\")"
   ]
  },
  {
   "cell_type": "code",
   "execution_count": 3,
   "id": "14747635",
   "metadata": {},
   "outputs": [
    {
     "data": {
      "text/html": [
       "<div>\n",
       "<style scoped>\n",
       "    .dataframe tbody tr th:only-of-type {\n",
       "        vertical-align: middle;\n",
       "    }\n",
       "\n",
       "    .dataframe tbody tr th {\n",
       "        vertical-align: top;\n",
       "    }\n",
       "\n",
       "    .dataframe thead th {\n",
       "        text-align: right;\n",
       "    }\n",
       "</style>\n",
       "<table border=\"1\" class=\"dataframe\">\n",
       "  <thead>\n",
       "    <tr style=\"text-align: right;\">\n",
       "      <th></th>\n",
       "      <th>X1</th>\n",
       "      <th>X2</th>\n",
       "      <th>X3</th>\n",
       "      <th>X4</th>\n",
       "      <th>X5</th>\n",
       "      <th>X6</th>\n",
       "      <th>X7</th>\n",
       "      <th>X8</th>\n",
       "      <th>X9</th>\n",
       "      <th>X10</th>\n",
       "      <th>X11</th>\n",
       "      <th>X12</th>\n",
       "    </tr>\n",
       "  </thead>\n",
       "  <tbody>\n",
       "    <tr>\n",
       "      <th>0</th>\n",
       "      <td>1</td>\n",
       "      <td>Alligator</td>\n",
       "      <td>5.9</td>\n",
       "      <td>6.1</td>\n",
       "      <td>3.0</td>\n",
       "      <td>0.7</td>\n",
       "      <td>1.23</td>\n",
       "      <td>5</td>\n",
       "      <td>0.85</td>\n",
       "      <td>1.43</td>\n",
       "      <td>1.53</td>\n",
       "      <td>1</td>\n",
       "    </tr>\n",
       "    <tr>\n",
       "      <th>1</th>\n",
       "      <td>2</td>\n",
       "      <td>Annie</td>\n",
       "      <td>3.5</td>\n",
       "      <td>5.1</td>\n",
       "      <td>1.9</td>\n",
       "      <td>3.2</td>\n",
       "      <td>1.33</td>\n",
       "      <td>7</td>\n",
       "      <td>0.92</td>\n",
       "      <td>1.90</td>\n",
       "      <td>1.33</td>\n",
       "      <td>0</td>\n",
       "    </tr>\n",
       "    <tr>\n",
       "      <th>2</th>\n",
       "      <td>3</td>\n",
       "      <td>Apopka</td>\n",
       "      <td>116.0</td>\n",
       "      <td>9.1</td>\n",
       "      <td>44.1</td>\n",
       "      <td>128.3</td>\n",
       "      <td>0.04</td>\n",
       "      <td>6</td>\n",
       "      <td>0.04</td>\n",
       "      <td>0.06</td>\n",
       "      <td>0.04</td>\n",
       "      <td>0</td>\n",
       "    </tr>\n",
       "    <tr>\n",
       "      <th>3</th>\n",
       "      <td>4</td>\n",
       "      <td>Blue Cypress</td>\n",
       "      <td>39.4</td>\n",
       "      <td>6.9</td>\n",
       "      <td>16.4</td>\n",
       "      <td>3.5</td>\n",
       "      <td>0.44</td>\n",
       "      <td>12</td>\n",
       "      <td>0.13</td>\n",
       "      <td>0.84</td>\n",
       "      <td>0.44</td>\n",
       "      <td>0</td>\n",
       "    </tr>\n",
       "    <tr>\n",
       "      <th>4</th>\n",
       "      <td>5</td>\n",
       "      <td>Brick</td>\n",
       "      <td>2.5</td>\n",
       "      <td>4.6</td>\n",
       "      <td>2.9</td>\n",
       "      <td>1.8</td>\n",
       "      <td>1.20</td>\n",
       "      <td>12</td>\n",
       "      <td>0.69</td>\n",
       "      <td>1.50</td>\n",
       "      <td>1.33</td>\n",
       "      <td>1</td>\n",
       "    </tr>\n",
       "    <tr>\n",
       "      <th>5</th>\n",
       "      <td>6</td>\n",
       "      <td>Bryant</td>\n",
       "      <td>19.6</td>\n",
       "      <td>7.3</td>\n",
       "      <td>4.5</td>\n",
       "      <td>44.1</td>\n",
       "      <td>0.27</td>\n",
       "      <td>14</td>\n",
       "      <td>0.04</td>\n",
       "      <td>0.48</td>\n",
       "      <td>0.25</td>\n",
       "      <td>1</td>\n",
       "    </tr>\n",
       "    <tr>\n",
       "      <th>6</th>\n",
       "      <td>7</td>\n",
       "      <td>Cherry</td>\n",
       "      <td>5.2</td>\n",
       "      <td>5.4</td>\n",
       "      <td>2.8</td>\n",
       "      <td>3.4</td>\n",
       "      <td>0.48</td>\n",
       "      <td>10</td>\n",
       "      <td>0.30</td>\n",
       "      <td>0.72</td>\n",
       "      <td>0.45</td>\n",
       "      <td>1</td>\n",
       "    </tr>\n",
       "    <tr>\n",
       "      <th>7</th>\n",
       "      <td>8</td>\n",
       "      <td>Crescent</td>\n",
       "      <td>71.4</td>\n",
       "      <td>8.1</td>\n",
       "      <td>55.2</td>\n",
       "      <td>33.7</td>\n",
       "      <td>0.19</td>\n",
       "      <td>12</td>\n",
       "      <td>0.08</td>\n",
       "      <td>0.38</td>\n",
       "      <td>0.16</td>\n",
       "      <td>1</td>\n",
       "    </tr>\n",
       "    <tr>\n",
       "      <th>8</th>\n",
       "      <td>9</td>\n",
       "      <td>Deer Point</td>\n",
       "      <td>26.4</td>\n",
       "      <td>5.8</td>\n",
       "      <td>9.2</td>\n",
       "      <td>1.6</td>\n",
       "      <td>0.83</td>\n",
       "      <td>24</td>\n",
       "      <td>0.26</td>\n",
       "      <td>1.40</td>\n",
       "      <td>0.72</td>\n",
       "      <td>1</td>\n",
       "    </tr>\n",
       "    <tr>\n",
       "      <th>9</th>\n",
       "      <td>10</td>\n",
       "      <td>Dias</td>\n",
       "      <td>4.8</td>\n",
       "      <td>6.4</td>\n",
       "      <td>4.6</td>\n",
       "      <td>22.5</td>\n",
       "      <td>0.81</td>\n",
       "      <td>12</td>\n",
       "      <td>0.41</td>\n",
       "      <td>1.47</td>\n",
       "      <td>0.81</td>\n",
       "      <td>1</td>\n",
       "    </tr>\n",
       "    <tr>\n",
       "      <th>10</th>\n",
       "      <td>11</td>\n",
       "      <td>Dorr</td>\n",
       "      <td>6.6</td>\n",
       "      <td>5.4</td>\n",
       "      <td>2.7</td>\n",
       "      <td>14.9</td>\n",
       "      <td>0.71</td>\n",
       "      <td>12</td>\n",
       "      <td>0.52</td>\n",
       "      <td>0.86</td>\n",
       "      <td>0.71</td>\n",
       "      <td>1</td>\n",
       "    </tr>\n",
       "    <tr>\n",
       "      <th>11</th>\n",
       "      <td>12</td>\n",
       "      <td>Down</td>\n",
       "      <td>16.5</td>\n",
       "      <td>7.2</td>\n",
       "      <td>13.8</td>\n",
       "      <td>4.0</td>\n",
       "      <td>0.50</td>\n",
       "      <td>12</td>\n",
       "      <td>0.10</td>\n",
       "      <td>0.73</td>\n",
       "      <td>0.51</td>\n",
       "      <td>1</td>\n",
       "    </tr>\n",
       "    <tr>\n",
       "      <th>12</th>\n",
       "      <td>13</td>\n",
       "      <td>Eaton</td>\n",
       "      <td>25.4</td>\n",
       "      <td>7.2</td>\n",
       "      <td>25.2</td>\n",
       "      <td>11.6</td>\n",
       "      <td>0.49</td>\n",
       "      <td>7</td>\n",
       "      <td>0.26</td>\n",
       "      <td>1.01</td>\n",
       "      <td>0.54</td>\n",
       "      <td>1</td>\n",
       "    </tr>\n",
       "    <tr>\n",
       "      <th>13</th>\n",
       "      <td>14</td>\n",
       "      <td>East Tohopekaliga</td>\n",
       "      <td>7.1</td>\n",
       "      <td>5.8</td>\n",
       "      <td>5.2</td>\n",
       "      <td>5.8</td>\n",
       "      <td>1.16</td>\n",
       "      <td>43</td>\n",
       "      <td>0.50</td>\n",
       "      <td>2.03</td>\n",
       "      <td>1.00</td>\n",
       "      <td>1</td>\n",
       "    </tr>\n",
       "    <tr>\n",
       "      <th>14</th>\n",
       "      <td>15</td>\n",
       "      <td>Farm-13</td>\n",
       "      <td>128.0</td>\n",
       "      <td>7.6</td>\n",
       "      <td>86.5</td>\n",
       "      <td>71.1</td>\n",
       "      <td>0.05</td>\n",
       "      <td>11</td>\n",
       "      <td>0.04</td>\n",
       "      <td>0.11</td>\n",
       "      <td>0.05</td>\n",
       "      <td>0</td>\n",
       "    </tr>\n",
       "    <tr>\n",
       "      <th>15</th>\n",
       "      <td>16</td>\n",
       "      <td>George</td>\n",
       "      <td>83.7</td>\n",
       "      <td>8.2</td>\n",
       "      <td>66.5</td>\n",
       "      <td>78.6</td>\n",
       "      <td>0.15</td>\n",
       "      <td>10</td>\n",
       "      <td>0.12</td>\n",
       "      <td>0.18</td>\n",
       "      <td>0.15</td>\n",
       "      <td>1</td>\n",
       "    </tr>\n",
       "    <tr>\n",
       "      <th>16</th>\n",
       "      <td>17</td>\n",
       "      <td>Griffin</td>\n",
       "      <td>108.5</td>\n",
       "      <td>8.7</td>\n",
       "      <td>35.6</td>\n",
       "      <td>80.1</td>\n",
       "      <td>0.19</td>\n",
       "      <td>40</td>\n",
       "      <td>0.07</td>\n",
       "      <td>0.43</td>\n",
       "      <td>0.19</td>\n",
       "      <td>1</td>\n",
       "    </tr>\n",
       "    <tr>\n",
       "      <th>17</th>\n",
       "      <td>18</td>\n",
       "      <td>Harney</td>\n",
       "      <td>61.3</td>\n",
       "      <td>7.8</td>\n",
       "      <td>57.4</td>\n",
       "      <td>13.9</td>\n",
       "      <td>0.77</td>\n",
       "      <td>6</td>\n",
       "      <td>0.32</td>\n",
       "      <td>1.50</td>\n",
       "      <td>0.49</td>\n",
       "      <td>1</td>\n",
       "    </tr>\n",
       "    <tr>\n",
       "      <th>18</th>\n",
       "      <td>19</td>\n",
       "      <td>Hart</td>\n",
       "      <td>6.4</td>\n",
       "      <td>5.8</td>\n",
       "      <td>4.0</td>\n",
       "      <td>4.6</td>\n",
       "      <td>1.08</td>\n",
       "      <td>10</td>\n",
       "      <td>0.64</td>\n",
       "      <td>1.33</td>\n",
       "      <td>1.02</td>\n",
       "      <td>1</td>\n",
       "    </tr>\n",
       "    <tr>\n",
       "      <th>19</th>\n",
       "      <td>20</td>\n",
       "      <td>Hatchineha</td>\n",
       "      <td>31.0</td>\n",
       "      <td>6.7</td>\n",
       "      <td>15.0</td>\n",
       "      <td>17.0</td>\n",
       "      <td>0.98</td>\n",
       "      <td>6</td>\n",
       "      <td>0.67</td>\n",
       "      <td>1.44</td>\n",
       "      <td>0.70</td>\n",
       "      <td>1</td>\n",
       "    </tr>\n",
       "    <tr>\n",
       "      <th>20</th>\n",
       "      <td>21</td>\n",
       "      <td>Iamonia</td>\n",
       "      <td>7.5</td>\n",
       "      <td>4.4</td>\n",
       "      <td>2.0</td>\n",
       "      <td>9.6</td>\n",
       "      <td>0.63</td>\n",
       "      <td>12</td>\n",
       "      <td>0.33</td>\n",
       "      <td>0.93</td>\n",
       "      <td>0.45</td>\n",
       "      <td>1</td>\n",
       "    </tr>\n",
       "    <tr>\n",
       "      <th>21</th>\n",
       "      <td>22</td>\n",
       "      <td>Istokpoga</td>\n",
       "      <td>17.3</td>\n",
       "      <td>6.7</td>\n",
       "      <td>10.7</td>\n",
       "      <td>9.5</td>\n",
       "      <td>0.56</td>\n",
       "      <td>12</td>\n",
       "      <td>0.37</td>\n",
       "      <td>0.94</td>\n",
       "      <td>0.59</td>\n",
       "      <td>1</td>\n",
       "    </tr>\n",
       "    <tr>\n",
       "      <th>22</th>\n",
       "      <td>23</td>\n",
       "      <td>Jackson</td>\n",
       "      <td>12.6</td>\n",
       "      <td>6.1</td>\n",
       "      <td>3.7</td>\n",
       "      <td>21.0</td>\n",
       "      <td>0.41</td>\n",
       "      <td>12</td>\n",
       "      <td>0.25</td>\n",
       "      <td>0.61</td>\n",
       "      <td>0.41</td>\n",
       "      <td>0</td>\n",
       "    </tr>\n",
       "    <tr>\n",
       "      <th>23</th>\n",
       "      <td>24</td>\n",
       "      <td>Josephine</td>\n",
       "      <td>7.0</td>\n",
       "      <td>6.9</td>\n",
       "      <td>6.3</td>\n",
       "      <td>32.1</td>\n",
       "      <td>0.73</td>\n",
       "      <td>12</td>\n",
       "      <td>0.33</td>\n",
       "      <td>2.04</td>\n",
       "      <td>0.81</td>\n",
       "      <td>1</td>\n",
       "    </tr>\n",
       "    <tr>\n",
       "      <th>24</th>\n",
       "      <td>25</td>\n",
       "      <td>Kingsley</td>\n",
       "      <td>10.5</td>\n",
       "      <td>5.5</td>\n",
       "      <td>6.3</td>\n",
       "      <td>1.6</td>\n",
       "      <td>0.34</td>\n",
       "      <td>10</td>\n",
       "      <td>0.25</td>\n",
       "      <td>0.62</td>\n",
       "      <td>0.42</td>\n",
       "      <td>1</td>\n",
       "    </tr>\n",
       "    <tr>\n",
       "      <th>25</th>\n",
       "      <td>26</td>\n",
       "      <td>Kissimmee</td>\n",
       "      <td>30.0</td>\n",
       "      <td>6.9</td>\n",
       "      <td>13.9</td>\n",
       "      <td>21.5</td>\n",
       "      <td>0.59</td>\n",
       "      <td>36</td>\n",
       "      <td>0.23</td>\n",
       "      <td>1.12</td>\n",
       "      <td>0.53</td>\n",
       "      <td>1</td>\n",
       "    </tr>\n",
       "    <tr>\n",
       "      <th>26</th>\n",
       "      <td>27</td>\n",
       "      <td>Lochloosa</td>\n",
       "      <td>55.4</td>\n",
       "      <td>7.3</td>\n",
       "      <td>15.9</td>\n",
       "      <td>24.7</td>\n",
       "      <td>0.34</td>\n",
       "      <td>10</td>\n",
       "      <td>0.17</td>\n",
       "      <td>0.52</td>\n",
       "      <td>0.31</td>\n",
       "      <td>1</td>\n",
       "    </tr>\n",
       "    <tr>\n",
       "      <th>27</th>\n",
       "      <td>28</td>\n",
       "      <td>Louisa</td>\n",
       "      <td>3.9</td>\n",
       "      <td>4.5</td>\n",
       "      <td>3.3</td>\n",
       "      <td>7.0</td>\n",
       "      <td>0.84</td>\n",
       "      <td>8</td>\n",
       "      <td>0.59</td>\n",
       "      <td>1.38</td>\n",
       "      <td>0.87</td>\n",
       "      <td>1</td>\n",
       "    </tr>\n",
       "    <tr>\n",
       "      <th>28</th>\n",
       "      <td>29</td>\n",
       "      <td>Miccasukee</td>\n",
       "      <td>5.5</td>\n",
       "      <td>4.8</td>\n",
       "      <td>1.7</td>\n",
       "      <td>14.8</td>\n",
       "      <td>0.50</td>\n",
       "      <td>11</td>\n",
       "      <td>0.31</td>\n",
       "      <td>0.84</td>\n",
       "      <td>0.50</td>\n",
       "      <td>0</td>\n",
       "    </tr>\n",
       "    <tr>\n",
       "      <th>29</th>\n",
       "      <td>30</td>\n",
       "      <td>Minneola</td>\n",
       "      <td>6.3</td>\n",
       "      <td>5.8</td>\n",
       "      <td>3.3</td>\n",
       "      <td>0.7</td>\n",
       "      <td>0.34</td>\n",
       "      <td>10</td>\n",
       "      <td>0.19</td>\n",
       "      <td>0.69</td>\n",
       "      <td>0.47</td>\n",
       "      <td>1</td>\n",
       "    </tr>\n",
       "    <tr>\n",
       "      <th>30</th>\n",
       "      <td>31</td>\n",
       "      <td>Monroe</td>\n",
       "      <td>67.0</td>\n",
       "      <td>7.8</td>\n",
       "      <td>58.6</td>\n",
       "      <td>43.8</td>\n",
       "      <td>0.28</td>\n",
       "      <td>10</td>\n",
       "      <td>0.16</td>\n",
       "      <td>0.59</td>\n",
       "      <td>0.25</td>\n",
       "      <td>1</td>\n",
       "    </tr>\n",
       "    <tr>\n",
       "      <th>31</th>\n",
       "      <td>32</td>\n",
       "      <td>Newmans</td>\n",
       "      <td>28.8</td>\n",
       "      <td>7.4</td>\n",
       "      <td>10.2</td>\n",
       "      <td>32.7</td>\n",
       "      <td>0.34</td>\n",
       "      <td>10</td>\n",
       "      <td>0.16</td>\n",
       "      <td>0.65</td>\n",
       "      <td>0.41</td>\n",
       "      <td>1</td>\n",
       "    </tr>\n",
       "    <tr>\n",
       "      <th>32</th>\n",
       "      <td>33</td>\n",
       "      <td>Ocean Pond</td>\n",
       "      <td>5.8</td>\n",
       "      <td>3.6</td>\n",
       "      <td>1.6</td>\n",
       "      <td>3.2</td>\n",
       "      <td>0.87</td>\n",
       "      <td>12</td>\n",
       "      <td>0.31</td>\n",
       "      <td>1.90</td>\n",
       "      <td>0.87</td>\n",
       "      <td>0</td>\n",
       "    </tr>\n",
       "    <tr>\n",
       "      <th>33</th>\n",
       "      <td>34</td>\n",
       "      <td>Ocheese Pond</td>\n",
       "      <td>4.5</td>\n",
       "      <td>4.4</td>\n",
       "      <td>1.1</td>\n",
       "      <td>3.2</td>\n",
       "      <td>0.56</td>\n",
       "      <td>13</td>\n",
       "      <td>0.25</td>\n",
       "      <td>1.02</td>\n",
       "      <td>0.56</td>\n",
       "      <td>0</td>\n",
       "    </tr>\n",
       "    <tr>\n",
       "      <th>34</th>\n",
       "      <td>35</td>\n",
       "      <td>Okeechobee</td>\n",
       "      <td>119.1</td>\n",
       "      <td>7.9</td>\n",
       "      <td>38.4</td>\n",
       "      <td>16.1</td>\n",
       "      <td>0.17</td>\n",
       "      <td>12</td>\n",
       "      <td>0.07</td>\n",
       "      <td>0.30</td>\n",
       "      <td>0.16</td>\n",
       "      <td>1</td>\n",
       "    </tr>\n",
       "    <tr>\n",
       "      <th>35</th>\n",
       "      <td>36</td>\n",
       "      <td>Orange</td>\n",
       "      <td>25.4</td>\n",
       "      <td>7.1</td>\n",
       "      <td>8.8</td>\n",
       "      <td>45.2</td>\n",
       "      <td>0.18</td>\n",
       "      <td>13</td>\n",
       "      <td>0.09</td>\n",
       "      <td>0.29</td>\n",
       "      <td>0.16</td>\n",
       "      <td>1</td>\n",
       "    </tr>\n",
       "    <tr>\n",
       "      <th>36</th>\n",
       "      <td>37</td>\n",
       "      <td>Panasoffkee</td>\n",
       "      <td>106.5</td>\n",
       "      <td>6.8</td>\n",
       "      <td>90.7</td>\n",
       "      <td>16.5</td>\n",
       "      <td>0.19</td>\n",
       "      <td>13</td>\n",
       "      <td>0.05</td>\n",
       "      <td>0.37</td>\n",
       "      <td>0.23</td>\n",
       "      <td>1</td>\n",
       "    </tr>\n",
       "    <tr>\n",
       "      <th>37</th>\n",
       "      <td>38</td>\n",
       "      <td>Parker</td>\n",
       "      <td>53.0</td>\n",
       "      <td>8.4</td>\n",
       "      <td>45.6</td>\n",
       "      <td>152.4</td>\n",
       "      <td>0.04</td>\n",
       "      <td>4</td>\n",
       "      <td>0.04</td>\n",
       "      <td>0.06</td>\n",
       "      <td>0.04</td>\n",
       "      <td>0</td>\n",
       "    </tr>\n",
       "    <tr>\n",
       "      <th>38</th>\n",
       "      <td>39</td>\n",
       "      <td>Placid</td>\n",
       "      <td>8.5</td>\n",
       "      <td>7.0</td>\n",
       "      <td>2.5</td>\n",
       "      <td>12.8</td>\n",
       "      <td>0.49</td>\n",
       "      <td>12</td>\n",
       "      <td>0.31</td>\n",
       "      <td>0.63</td>\n",
       "      <td>0.56</td>\n",
       "      <td>1</td>\n",
       "    </tr>\n",
       "    <tr>\n",
       "      <th>39</th>\n",
       "      <td>40</td>\n",
       "      <td>Puzzle</td>\n",
       "      <td>87.6</td>\n",
       "      <td>7.5</td>\n",
       "      <td>85.5</td>\n",
       "      <td>20.1</td>\n",
       "      <td>1.10</td>\n",
       "      <td>10</td>\n",
       "      <td>0.79</td>\n",
       "      <td>1.41</td>\n",
       "      <td>0.89</td>\n",
       "      <td>1</td>\n",
       "    </tr>\n",
       "    <tr>\n",
       "      <th>40</th>\n",
       "      <td>41</td>\n",
       "      <td>Rodman</td>\n",
       "      <td>114.0</td>\n",
       "      <td>7.0</td>\n",
       "      <td>72.6</td>\n",
       "      <td>6.4</td>\n",
       "      <td>0.16</td>\n",
       "      <td>14</td>\n",
       "      <td>0.04</td>\n",
       "      <td>0.26</td>\n",
       "      <td>0.18</td>\n",
       "      <td>1</td>\n",
       "    </tr>\n",
       "    <tr>\n",
       "      <th>41</th>\n",
       "      <td>42</td>\n",
       "      <td>Rousseau</td>\n",
       "      <td>97.5</td>\n",
       "      <td>6.8</td>\n",
       "      <td>45.5</td>\n",
       "      <td>6.2</td>\n",
       "      <td>0.10</td>\n",
       "      <td>12</td>\n",
       "      <td>0.05</td>\n",
       "      <td>0.26</td>\n",
       "      <td>0.19</td>\n",
       "      <td>1</td>\n",
       "    </tr>\n",
       "    <tr>\n",
       "      <th>42</th>\n",
       "      <td>43</td>\n",
       "      <td>Sampson</td>\n",
       "      <td>11.8</td>\n",
       "      <td>5.9</td>\n",
       "      <td>24.2</td>\n",
       "      <td>1.6</td>\n",
       "      <td>0.48</td>\n",
       "      <td>10</td>\n",
       "      <td>0.27</td>\n",
       "      <td>1.05</td>\n",
       "      <td>0.44</td>\n",
       "      <td>1</td>\n",
       "    </tr>\n",
       "    <tr>\n",
       "      <th>43</th>\n",
       "      <td>44</td>\n",
       "      <td>Shipp</td>\n",
       "      <td>66.5</td>\n",
       "      <td>8.3</td>\n",
       "      <td>26.0</td>\n",
       "      <td>68.2</td>\n",
       "      <td>0.21</td>\n",
       "      <td>12</td>\n",
       "      <td>0.05</td>\n",
       "      <td>0.48</td>\n",
       "      <td>0.16</td>\n",
       "      <td>1</td>\n",
       "    </tr>\n",
       "    <tr>\n",
       "      <th>44</th>\n",
       "      <td>45</td>\n",
       "      <td>Talquin</td>\n",
       "      <td>16.0</td>\n",
       "      <td>6.7</td>\n",
       "      <td>41.2</td>\n",
       "      <td>24.1</td>\n",
       "      <td>0.86</td>\n",
       "      <td>12</td>\n",
       "      <td>0.36</td>\n",
       "      <td>1.40</td>\n",
       "      <td>0.67</td>\n",
       "      <td>1</td>\n",
       "    </tr>\n",
       "    <tr>\n",
       "      <th>45</th>\n",
       "      <td>46</td>\n",
       "      <td>Tarpon</td>\n",
       "      <td>5.0</td>\n",
       "      <td>6.2</td>\n",
       "      <td>23.6</td>\n",
       "      <td>9.6</td>\n",
       "      <td>0.52</td>\n",
       "      <td>12</td>\n",
       "      <td>0.31</td>\n",
       "      <td>0.95</td>\n",
       "      <td>0.55</td>\n",
       "      <td>1</td>\n",
       "    </tr>\n",
       "    <tr>\n",
       "      <th>46</th>\n",
       "      <td>51</td>\n",
       "      <td>Tohopekaliga</td>\n",
       "      <td>25.6</td>\n",
       "      <td>6.2</td>\n",
       "      <td>12.6</td>\n",
       "      <td>27.7</td>\n",
       "      <td>0.65</td>\n",
       "      <td>44</td>\n",
       "      <td>0.30</td>\n",
       "      <td>1.10</td>\n",
       "      <td>0.58</td>\n",
       "      <td>1</td>\n",
       "    </tr>\n",
       "    <tr>\n",
       "      <th>47</th>\n",
       "      <td>47</td>\n",
       "      <td>Trafford</td>\n",
       "      <td>81.5</td>\n",
       "      <td>8.9</td>\n",
       "      <td>20.5</td>\n",
       "      <td>9.6</td>\n",
       "      <td>0.27</td>\n",
       "      <td>6</td>\n",
       "      <td>0.04</td>\n",
       "      <td>0.40</td>\n",
       "      <td>0.27</td>\n",
       "      <td>0</td>\n",
       "    </tr>\n",
       "    <tr>\n",
       "      <th>48</th>\n",
       "      <td>48</td>\n",
       "      <td>Trout</td>\n",
       "      <td>1.2</td>\n",
       "      <td>4.3</td>\n",
       "      <td>2.1</td>\n",
       "      <td>6.4</td>\n",
       "      <td>0.94</td>\n",
       "      <td>10</td>\n",
       "      <td>0.59</td>\n",
       "      <td>1.24</td>\n",
       "      <td>0.98</td>\n",
       "      <td>1</td>\n",
       "    </tr>\n",
       "    <tr>\n",
       "      <th>49</th>\n",
       "      <td>49</td>\n",
       "      <td>Tsala Apopka</td>\n",
       "      <td>34.0</td>\n",
       "      <td>7.0</td>\n",
       "      <td>13.1</td>\n",
       "      <td>4.6</td>\n",
       "      <td>0.40</td>\n",
       "      <td>12</td>\n",
       "      <td>0.08</td>\n",
       "      <td>0.90</td>\n",
       "      <td>0.31</td>\n",
       "      <td>1</td>\n",
       "    </tr>\n",
       "    <tr>\n",
       "      <th>50</th>\n",
       "      <td>50</td>\n",
       "      <td>Weir</td>\n",
       "      <td>15.5</td>\n",
       "      <td>6.9</td>\n",
       "      <td>5.2</td>\n",
       "      <td>16.5</td>\n",
       "      <td>0.43</td>\n",
       "      <td>11</td>\n",
       "      <td>0.23</td>\n",
       "      <td>0.69</td>\n",
       "      <td>0.43</td>\n",
       "      <td>1</td>\n",
       "    </tr>\n",
       "    <tr>\n",
       "      <th>51</th>\n",
       "      <td>52</td>\n",
       "      <td>Wildcat</td>\n",
       "      <td>17.3</td>\n",
       "      <td>5.2</td>\n",
       "      <td>3.0</td>\n",
       "      <td>2.6</td>\n",
       "      <td>0.25</td>\n",
       "      <td>12</td>\n",
       "      <td>0.15</td>\n",
       "      <td>0.40</td>\n",
       "      <td>0.28</td>\n",
       "      <td>1</td>\n",
       "    </tr>\n",
       "    <tr>\n",
       "      <th>52</th>\n",
       "      <td>53</td>\n",
       "      <td>Yale</td>\n",
       "      <td>71.8</td>\n",
       "      <td>7.9</td>\n",
       "      <td>20.5</td>\n",
       "      <td>8.8</td>\n",
       "      <td>0.27</td>\n",
       "      <td>12</td>\n",
       "      <td>0.15</td>\n",
       "      <td>0.51</td>\n",
       "      <td>0.25</td>\n",
       "      <td>1</td>\n",
       "    </tr>\n",
       "  </tbody>\n",
       "</table>\n",
       "</div>"
      ],
      "text/plain": [
       "    X1                 X2     X3   X4    X5     X6    X7  X8    X9   X10  \\\n",
       "0    1          Alligator    5.9  6.1   3.0    0.7  1.23   5  0.85  1.43   \n",
       "1    2              Annie    3.5  5.1   1.9    3.2  1.33   7  0.92  1.90   \n",
       "2    3             Apopka  116.0  9.1  44.1  128.3  0.04   6  0.04  0.06   \n",
       "3    4       Blue Cypress   39.4  6.9  16.4    3.5  0.44  12  0.13  0.84   \n",
       "4    5              Brick    2.5  4.6   2.9    1.8  1.20  12  0.69  1.50   \n",
       "5    6             Bryant   19.6  7.3   4.5   44.1  0.27  14  0.04  0.48   \n",
       "6    7             Cherry    5.2  5.4   2.8    3.4  0.48  10  0.30  0.72   \n",
       "7    8           Crescent   71.4  8.1  55.2   33.7  0.19  12  0.08  0.38   \n",
       "8    9         Deer Point   26.4  5.8   9.2    1.6  0.83  24  0.26  1.40   \n",
       "9   10               Dias    4.8  6.4   4.6   22.5  0.81  12  0.41  1.47   \n",
       "10  11               Dorr    6.6  5.4   2.7   14.9  0.71  12  0.52  0.86   \n",
       "11  12               Down   16.5  7.2  13.8    4.0  0.50  12  0.10  0.73   \n",
       "12  13              Eaton   25.4  7.2  25.2   11.6  0.49   7  0.26  1.01   \n",
       "13  14  East Tohopekaliga    7.1  5.8   5.2    5.8  1.16  43  0.50  2.03   \n",
       "14  15            Farm-13  128.0  7.6  86.5   71.1  0.05  11  0.04  0.11   \n",
       "15  16             George   83.7  8.2  66.5   78.6  0.15  10  0.12  0.18   \n",
       "16  17            Griffin  108.5  8.7  35.6   80.1  0.19  40  0.07  0.43   \n",
       "17  18             Harney   61.3  7.8  57.4   13.9  0.77   6  0.32  1.50   \n",
       "18  19               Hart    6.4  5.8   4.0    4.6  1.08  10  0.64  1.33   \n",
       "19  20         Hatchineha   31.0  6.7  15.0   17.0  0.98   6  0.67  1.44   \n",
       "20  21            Iamonia    7.5  4.4   2.0    9.6  0.63  12  0.33  0.93   \n",
       "21  22          Istokpoga   17.3  6.7  10.7    9.5  0.56  12  0.37  0.94   \n",
       "22  23            Jackson   12.6  6.1   3.7   21.0  0.41  12  0.25  0.61   \n",
       "23  24          Josephine    7.0  6.9   6.3   32.1  0.73  12  0.33  2.04   \n",
       "24  25           Kingsley   10.5  5.5   6.3    1.6  0.34  10  0.25  0.62   \n",
       "25  26          Kissimmee   30.0  6.9  13.9   21.5  0.59  36  0.23  1.12   \n",
       "26  27          Lochloosa   55.4  7.3  15.9   24.7  0.34  10  0.17  0.52   \n",
       "27  28             Louisa    3.9  4.5   3.3    7.0  0.84   8  0.59  1.38   \n",
       "28  29         Miccasukee    5.5  4.8   1.7   14.8  0.50  11  0.31  0.84   \n",
       "29  30           Minneola    6.3  5.8   3.3    0.7  0.34  10  0.19  0.69   \n",
       "30  31             Monroe   67.0  7.8  58.6   43.8  0.28  10  0.16  0.59   \n",
       "31  32            Newmans   28.8  7.4  10.2   32.7  0.34  10  0.16  0.65   \n",
       "32  33         Ocean Pond    5.8  3.6   1.6    3.2  0.87  12  0.31  1.90   \n",
       "33  34       Ocheese Pond    4.5  4.4   1.1    3.2  0.56  13  0.25  1.02   \n",
       "34  35         Okeechobee  119.1  7.9  38.4   16.1  0.17  12  0.07  0.30   \n",
       "35  36             Orange   25.4  7.1   8.8   45.2  0.18  13  0.09  0.29   \n",
       "36  37        Panasoffkee  106.5  6.8  90.7   16.5  0.19  13  0.05  0.37   \n",
       "37  38             Parker   53.0  8.4  45.6  152.4  0.04   4  0.04  0.06   \n",
       "38  39             Placid    8.5  7.0   2.5   12.8  0.49  12  0.31  0.63   \n",
       "39  40             Puzzle   87.6  7.5  85.5   20.1  1.10  10  0.79  1.41   \n",
       "40  41             Rodman  114.0  7.0  72.6    6.4  0.16  14  0.04  0.26   \n",
       "41  42           Rousseau   97.5  6.8  45.5    6.2  0.10  12  0.05  0.26   \n",
       "42  43            Sampson   11.8  5.9  24.2    1.6  0.48  10  0.27  1.05   \n",
       "43  44              Shipp   66.5  8.3  26.0   68.2  0.21  12  0.05  0.48   \n",
       "44  45            Talquin   16.0  6.7  41.2   24.1  0.86  12  0.36  1.40   \n",
       "45  46             Tarpon    5.0  6.2  23.6    9.6  0.52  12  0.31  0.95   \n",
       "46  51       Tohopekaliga   25.6  6.2  12.6   27.7  0.65  44  0.30  1.10   \n",
       "47  47           Trafford   81.5  8.9  20.5    9.6  0.27   6  0.04  0.40   \n",
       "48  48              Trout    1.2  4.3   2.1    6.4  0.94  10  0.59  1.24   \n",
       "49  49       Tsala Apopka   34.0  7.0  13.1    4.6  0.40  12  0.08  0.90   \n",
       "50  50               Weir   15.5  6.9   5.2   16.5  0.43  11  0.23  0.69   \n",
       "51  52            Wildcat   17.3  5.2   3.0    2.6  0.25  12  0.15  0.40   \n",
       "52  53               Yale   71.8  7.9  20.5    8.8  0.27  12  0.15  0.51   \n",
       "\n",
       "     X11  X12  \n",
       "0   1.53    1  \n",
       "1   1.33    0  \n",
       "2   0.04    0  \n",
       "3   0.44    0  \n",
       "4   1.33    1  \n",
       "5   0.25    1  \n",
       "6   0.45    1  \n",
       "7   0.16    1  \n",
       "8   0.72    1  \n",
       "9   0.81    1  \n",
       "10  0.71    1  \n",
       "11  0.51    1  \n",
       "12  0.54    1  \n",
       "13  1.00    1  \n",
       "14  0.05    0  \n",
       "15  0.15    1  \n",
       "16  0.19    1  \n",
       "17  0.49    1  \n",
       "18  1.02    1  \n",
       "19  0.70    1  \n",
       "20  0.45    1  \n",
       "21  0.59    1  \n",
       "22  0.41    0  \n",
       "23  0.81    1  \n",
       "24  0.42    1  \n",
       "25  0.53    1  \n",
       "26  0.31    1  \n",
       "27  0.87    1  \n",
       "28  0.50    0  \n",
       "29  0.47    1  \n",
       "30  0.25    1  \n",
       "31  0.41    1  \n",
       "32  0.87    0  \n",
       "33  0.56    0  \n",
       "34  0.16    1  \n",
       "35  0.16    1  \n",
       "36  0.23    1  \n",
       "37  0.04    0  \n",
       "38  0.56    1  \n",
       "39  0.89    1  \n",
       "40  0.18    1  \n",
       "41  0.19    1  \n",
       "42  0.44    1  \n",
       "43  0.16    1  \n",
       "44  0.67    1  \n",
       "45  0.55    1  \n",
       "46  0.58    1  \n",
       "47  0.27    0  \n",
       "48  0.98    1  \n",
       "49  0.31    1  \n",
       "50  0.43    1  \n",
       "51  0.28    1  \n",
       "52  0.25    1  "
      ]
     },
     "execution_count": 3,
     "metadata": {},
     "output_type": "execute_result"
    }
   ],
   "source": [
    "df"
   ]
  },
  {
   "cell_type": "code",
   "execution_count": 4,
   "id": "f9adbd78",
   "metadata": {},
   "outputs": [],
   "source": [
    "columns = np.array([\"id\", \"nombre\", \"alcalinidad\", \"PH\", \"calcio\", \"clorofila\", \"mercurio\", \"npeces\", \"minmercurio\", \"maxmercurio\", \"estimacion\", \"edad\"])"
   ]
  },
  {
   "cell_type": "code",
   "execution_count": 5,
   "id": "443f5153",
   "metadata": {},
   "outputs": [],
   "source": [
    "df.columns = columns"
   ]
  },
  {
   "cell_type": "code",
   "execution_count": 6,
   "id": "4376e562",
   "metadata": {},
   "outputs": [],
   "source": [
    "df = df.set_index('id')"
   ]
  },
  {
   "cell_type": "code",
   "execution_count": 7,
   "id": "f676e37f",
   "metadata": {},
   "outputs": [
    {
     "data": {
      "text/html": [
       "<div>\n",
       "<style scoped>\n",
       "    .dataframe tbody tr th:only-of-type {\n",
       "        vertical-align: middle;\n",
       "    }\n",
       "\n",
       "    .dataframe tbody tr th {\n",
       "        vertical-align: top;\n",
       "    }\n",
       "\n",
       "    .dataframe thead th {\n",
       "        text-align: right;\n",
       "    }\n",
       "</style>\n",
       "<table border=\"1\" class=\"dataframe\">\n",
       "  <thead>\n",
       "    <tr style=\"text-align: right;\">\n",
       "      <th></th>\n",
       "      <th>nombre</th>\n",
       "      <th>alcalinidad</th>\n",
       "      <th>PH</th>\n",
       "      <th>calcio</th>\n",
       "      <th>clorofila</th>\n",
       "      <th>mercurio</th>\n",
       "      <th>npeces</th>\n",
       "      <th>minmercurio</th>\n",
       "      <th>maxmercurio</th>\n",
       "      <th>estimacion</th>\n",
       "      <th>edad</th>\n",
       "    </tr>\n",
       "    <tr>\n",
       "      <th>id</th>\n",
       "      <th></th>\n",
       "      <th></th>\n",
       "      <th></th>\n",
       "      <th></th>\n",
       "      <th></th>\n",
       "      <th></th>\n",
       "      <th></th>\n",
       "      <th></th>\n",
       "      <th></th>\n",
       "      <th></th>\n",
       "      <th></th>\n",
       "    </tr>\n",
       "  </thead>\n",
       "  <tbody>\n",
       "    <tr>\n",
       "      <th>1</th>\n",
       "      <td>Alligator</td>\n",
       "      <td>5.9</td>\n",
       "      <td>6.1</td>\n",
       "      <td>3.0</td>\n",
       "      <td>0.7</td>\n",
       "      <td>1.23</td>\n",
       "      <td>5</td>\n",
       "      <td>0.85</td>\n",
       "      <td>1.43</td>\n",
       "      <td>1.53</td>\n",
       "      <td>1</td>\n",
       "    </tr>\n",
       "    <tr>\n",
       "      <th>2</th>\n",
       "      <td>Annie</td>\n",
       "      <td>3.5</td>\n",
       "      <td>5.1</td>\n",
       "      <td>1.9</td>\n",
       "      <td>3.2</td>\n",
       "      <td>1.33</td>\n",
       "      <td>7</td>\n",
       "      <td>0.92</td>\n",
       "      <td>1.90</td>\n",
       "      <td>1.33</td>\n",
       "      <td>0</td>\n",
       "    </tr>\n",
       "    <tr>\n",
       "      <th>3</th>\n",
       "      <td>Apopka</td>\n",
       "      <td>116.0</td>\n",
       "      <td>9.1</td>\n",
       "      <td>44.1</td>\n",
       "      <td>128.3</td>\n",
       "      <td>0.04</td>\n",
       "      <td>6</td>\n",
       "      <td>0.04</td>\n",
       "      <td>0.06</td>\n",
       "      <td>0.04</td>\n",
       "      <td>0</td>\n",
       "    </tr>\n",
       "    <tr>\n",
       "      <th>4</th>\n",
       "      <td>Blue Cypress</td>\n",
       "      <td>39.4</td>\n",
       "      <td>6.9</td>\n",
       "      <td>16.4</td>\n",
       "      <td>3.5</td>\n",
       "      <td>0.44</td>\n",
       "      <td>12</td>\n",
       "      <td>0.13</td>\n",
       "      <td>0.84</td>\n",
       "      <td>0.44</td>\n",
       "      <td>0</td>\n",
       "    </tr>\n",
       "    <tr>\n",
       "      <th>5</th>\n",
       "      <td>Brick</td>\n",
       "      <td>2.5</td>\n",
       "      <td>4.6</td>\n",
       "      <td>2.9</td>\n",
       "      <td>1.8</td>\n",
       "      <td>1.20</td>\n",
       "      <td>12</td>\n",
       "      <td>0.69</td>\n",
       "      <td>1.50</td>\n",
       "      <td>1.33</td>\n",
       "      <td>1</td>\n",
       "    </tr>\n",
       "    <tr>\n",
       "      <th>6</th>\n",
       "      <td>Bryant</td>\n",
       "      <td>19.6</td>\n",
       "      <td>7.3</td>\n",
       "      <td>4.5</td>\n",
       "      <td>44.1</td>\n",
       "      <td>0.27</td>\n",
       "      <td>14</td>\n",
       "      <td>0.04</td>\n",
       "      <td>0.48</td>\n",
       "      <td>0.25</td>\n",
       "      <td>1</td>\n",
       "    </tr>\n",
       "    <tr>\n",
       "      <th>7</th>\n",
       "      <td>Cherry</td>\n",
       "      <td>5.2</td>\n",
       "      <td>5.4</td>\n",
       "      <td>2.8</td>\n",
       "      <td>3.4</td>\n",
       "      <td>0.48</td>\n",
       "      <td>10</td>\n",
       "      <td>0.30</td>\n",
       "      <td>0.72</td>\n",
       "      <td>0.45</td>\n",
       "      <td>1</td>\n",
       "    </tr>\n",
       "    <tr>\n",
       "      <th>8</th>\n",
       "      <td>Crescent</td>\n",
       "      <td>71.4</td>\n",
       "      <td>8.1</td>\n",
       "      <td>55.2</td>\n",
       "      <td>33.7</td>\n",
       "      <td>0.19</td>\n",
       "      <td>12</td>\n",
       "      <td>0.08</td>\n",
       "      <td>0.38</td>\n",
       "      <td>0.16</td>\n",
       "      <td>1</td>\n",
       "    </tr>\n",
       "    <tr>\n",
       "      <th>9</th>\n",
       "      <td>Deer Point</td>\n",
       "      <td>26.4</td>\n",
       "      <td>5.8</td>\n",
       "      <td>9.2</td>\n",
       "      <td>1.6</td>\n",
       "      <td>0.83</td>\n",
       "      <td>24</td>\n",
       "      <td>0.26</td>\n",
       "      <td>1.40</td>\n",
       "      <td>0.72</td>\n",
       "      <td>1</td>\n",
       "    </tr>\n",
       "    <tr>\n",
       "      <th>10</th>\n",
       "      <td>Dias</td>\n",
       "      <td>4.8</td>\n",
       "      <td>6.4</td>\n",
       "      <td>4.6</td>\n",
       "      <td>22.5</td>\n",
       "      <td>0.81</td>\n",
       "      <td>12</td>\n",
       "      <td>0.41</td>\n",
       "      <td>1.47</td>\n",
       "      <td>0.81</td>\n",
       "      <td>1</td>\n",
       "    </tr>\n",
       "    <tr>\n",
       "      <th>11</th>\n",
       "      <td>Dorr</td>\n",
       "      <td>6.6</td>\n",
       "      <td>5.4</td>\n",
       "      <td>2.7</td>\n",
       "      <td>14.9</td>\n",
       "      <td>0.71</td>\n",
       "      <td>12</td>\n",
       "      <td>0.52</td>\n",
       "      <td>0.86</td>\n",
       "      <td>0.71</td>\n",
       "      <td>1</td>\n",
       "    </tr>\n",
       "    <tr>\n",
       "      <th>12</th>\n",
       "      <td>Down</td>\n",
       "      <td>16.5</td>\n",
       "      <td>7.2</td>\n",
       "      <td>13.8</td>\n",
       "      <td>4.0</td>\n",
       "      <td>0.50</td>\n",
       "      <td>12</td>\n",
       "      <td>0.10</td>\n",
       "      <td>0.73</td>\n",
       "      <td>0.51</td>\n",
       "      <td>1</td>\n",
       "    </tr>\n",
       "    <tr>\n",
       "      <th>13</th>\n",
       "      <td>Eaton</td>\n",
       "      <td>25.4</td>\n",
       "      <td>7.2</td>\n",
       "      <td>25.2</td>\n",
       "      <td>11.6</td>\n",
       "      <td>0.49</td>\n",
       "      <td>7</td>\n",
       "      <td>0.26</td>\n",
       "      <td>1.01</td>\n",
       "      <td>0.54</td>\n",
       "      <td>1</td>\n",
       "    </tr>\n",
       "    <tr>\n",
       "      <th>14</th>\n",
       "      <td>East Tohopekaliga</td>\n",
       "      <td>7.1</td>\n",
       "      <td>5.8</td>\n",
       "      <td>5.2</td>\n",
       "      <td>5.8</td>\n",
       "      <td>1.16</td>\n",
       "      <td>43</td>\n",
       "      <td>0.50</td>\n",
       "      <td>2.03</td>\n",
       "      <td>1.00</td>\n",
       "      <td>1</td>\n",
       "    </tr>\n",
       "    <tr>\n",
       "      <th>15</th>\n",
       "      <td>Farm-13</td>\n",
       "      <td>128.0</td>\n",
       "      <td>7.6</td>\n",
       "      <td>86.5</td>\n",
       "      <td>71.1</td>\n",
       "      <td>0.05</td>\n",
       "      <td>11</td>\n",
       "      <td>0.04</td>\n",
       "      <td>0.11</td>\n",
       "      <td>0.05</td>\n",
       "      <td>0</td>\n",
       "    </tr>\n",
       "    <tr>\n",
       "      <th>16</th>\n",
       "      <td>George</td>\n",
       "      <td>83.7</td>\n",
       "      <td>8.2</td>\n",
       "      <td>66.5</td>\n",
       "      <td>78.6</td>\n",
       "      <td>0.15</td>\n",
       "      <td>10</td>\n",
       "      <td>0.12</td>\n",
       "      <td>0.18</td>\n",
       "      <td>0.15</td>\n",
       "      <td>1</td>\n",
       "    </tr>\n",
       "    <tr>\n",
       "      <th>17</th>\n",
       "      <td>Griffin</td>\n",
       "      <td>108.5</td>\n",
       "      <td>8.7</td>\n",
       "      <td>35.6</td>\n",
       "      <td>80.1</td>\n",
       "      <td>0.19</td>\n",
       "      <td>40</td>\n",
       "      <td>0.07</td>\n",
       "      <td>0.43</td>\n",
       "      <td>0.19</td>\n",
       "      <td>1</td>\n",
       "    </tr>\n",
       "    <tr>\n",
       "      <th>18</th>\n",
       "      <td>Harney</td>\n",
       "      <td>61.3</td>\n",
       "      <td>7.8</td>\n",
       "      <td>57.4</td>\n",
       "      <td>13.9</td>\n",
       "      <td>0.77</td>\n",
       "      <td>6</td>\n",
       "      <td>0.32</td>\n",
       "      <td>1.50</td>\n",
       "      <td>0.49</td>\n",
       "      <td>1</td>\n",
       "    </tr>\n",
       "    <tr>\n",
       "      <th>19</th>\n",
       "      <td>Hart</td>\n",
       "      <td>6.4</td>\n",
       "      <td>5.8</td>\n",
       "      <td>4.0</td>\n",
       "      <td>4.6</td>\n",
       "      <td>1.08</td>\n",
       "      <td>10</td>\n",
       "      <td>0.64</td>\n",
       "      <td>1.33</td>\n",
       "      <td>1.02</td>\n",
       "      <td>1</td>\n",
       "    </tr>\n",
       "    <tr>\n",
       "      <th>20</th>\n",
       "      <td>Hatchineha</td>\n",
       "      <td>31.0</td>\n",
       "      <td>6.7</td>\n",
       "      <td>15.0</td>\n",
       "      <td>17.0</td>\n",
       "      <td>0.98</td>\n",
       "      <td>6</td>\n",
       "      <td>0.67</td>\n",
       "      <td>1.44</td>\n",
       "      <td>0.70</td>\n",
       "      <td>1</td>\n",
       "    </tr>\n",
       "    <tr>\n",
       "      <th>21</th>\n",
       "      <td>Iamonia</td>\n",
       "      <td>7.5</td>\n",
       "      <td>4.4</td>\n",
       "      <td>2.0</td>\n",
       "      <td>9.6</td>\n",
       "      <td>0.63</td>\n",
       "      <td>12</td>\n",
       "      <td>0.33</td>\n",
       "      <td>0.93</td>\n",
       "      <td>0.45</td>\n",
       "      <td>1</td>\n",
       "    </tr>\n",
       "    <tr>\n",
       "      <th>22</th>\n",
       "      <td>Istokpoga</td>\n",
       "      <td>17.3</td>\n",
       "      <td>6.7</td>\n",
       "      <td>10.7</td>\n",
       "      <td>9.5</td>\n",
       "      <td>0.56</td>\n",
       "      <td>12</td>\n",
       "      <td>0.37</td>\n",
       "      <td>0.94</td>\n",
       "      <td>0.59</td>\n",
       "      <td>1</td>\n",
       "    </tr>\n",
       "    <tr>\n",
       "      <th>23</th>\n",
       "      <td>Jackson</td>\n",
       "      <td>12.6</td>\n",
       "      <td>6.1</td>\n",
       "      <td>3.7</td>\n",
       "      <td>21.0</td>\n",
       "      <td>0.41</td>\n",
       "      <td>12</td>\n",
       "      <td>0.25</td>\n",
       "      <td>0.61</td>\n",
       "      <td>0.41</td>\n",
       "      <td>0</td>\n",
       "    </tr>\n",
       "    <tr>\n",
       "      <th>24</th>\n",
       "      <td>Josephine</td>\n",
       "      <td>7.0</td>\n",
       "      <td>6.9</td>\n",
       "      <td>6.3</td>\n",
       "      <td>32.1</td>\n",
       "      <td>0.73</td>\n",
       "      <td>12</td>\n",
       "      <td>0.33</td>\n",
       "      <td>2.04</td>\n",
       "      <td>0.81</td>\n",
       "      <td>1</td>\n",
       "    </tr>\n",
       "    <tr>\n",
       "      <th>25</th>\n",
       "      <td>Kingsley</td>\n",
       "      <td>10.5</td>\n",
       "      <td>5.5</td>\n",
       "      <td>6.3</td>\n",
       "      <td>1.6</td>\n",
       "      <td>0.34</td>\n",
       "      <td>10</td>\n",
       "      <td>0.25</td>\n",
       "      <td>0.62</td>\n",
       "      <td>0.42</td>\n",
       "      <td>1</td>\n",
       "    </tr>\n",
       "    <tr>\n",
       "      <th>26</th>\n",
       "      <td>Kissimmee</td>\n",
       "      <td>30.0</td>\n",
       "      <td>6.9</td>\n",
       "      <td>13.9</td>\n",
       "      <td>21.5</td>\n",
       "      <td>0.59</td>\n",
       "      <td>36</td>\n",
       "      <td>0.23</td>\n",
       "      <td>1.12</td>\n",
       "      <td>0.53</td>\n",
       "      <td>1</td>\n",
       "    </tr>\n",
       "    <tr>\n",
       "      <th>27</th>\n",
       "      <td>Lochloosa</td>\n",
       "      <td>55.4</td>\n",
       "      <td>7.3</td>\n",
       "      <td>15.9</td>\n",
       "      <td>24.7</td>\n",
       "      <td>0.34</td>\n",
       "      <td>10</td>\n",
       "      <td>0.17</td>\n",
       "      <td>0.52</td>\n",
       "      <td>0.31</td>\n",
       "      <td>1</td>\n",
       "    </tr>\n",
       "    <tr>\n",
       "      <th>28</th>\n",
       "      <td>Louisa</td>\n",
       "      <td>3.9</td>\n",
       "      <td>4.5</td>\n",
       "      <td>3.3</td>\n",
       "      <td>7.0</td>\n",
       "      <td>0.84</td>\n",
       "      <td>8</td>\n",
       "      <td>0.59</td>\n",
       "      <td>1.38</td>\n",
       "      <td>0.87</td>\n",
       "      <td>1</td>\n",
       "    </tr>\n",
       "    <tr>\n",
       "      <th>29</th>\n",
       "      <td>Miccasukee</td>\n",
       "      <td>5.5</td>\n",
       "      <td>4.8</td>\n",
       "      <td>1.7</td>\n",
       "      <td>14.8</td>\n",
       "      <td>0.50</td>\n",
       "      <td>11</td>\n",
       "      <td>0.31</td>\n",
       "      <td>0.84</td>\n",
       "      <td>0.50</td>\n",
       "      <td>0</td>\n",
       "    </tr>\n",
       "    <tr>\n",
       "      <th>30</th>\n",
       "      <td>Minneola</td>\n",
       "      <td>6.3</td>\n",
       "      <td>5.8</td>\n",
       "      <td>3.3</td>\n",
       "      <td>0.7</td>\n",
       "      <td>0.34</td>\n",
       "      <td>10</td>\n",
       "      <td>0.19</td>\n",
       "      <td>0.69</td>\n",
       "      <td>0.47</td>\n",
       "      <td>1</td>\n",
       "    </tr>\n",
       "    <tr>\n",
       "      <th>31</th>\n",
       "      <td>Monroe</td>\n",
       "      <td>67.0</td>\n",
       "      <td>7.8</td>\n",
       "      <td>58.6</td>\n",
       "      <td>43.8</td>\n",
       "      <td>0.28</td>\n",
       "      <td>10</td>\n",
       "      <td>0.16</td>\n",
       "      <td>0.59</td>\n",
       "      <td>0.25</td>\n",
       "      <td>1</td>\n",
       "    </tr>\n",
       "    <tr>\n",
       "      <th>32</th>\n",
       "      <td>Newmans</td>\n",
       "      <td>28.8</td>\n",
       "      <td>7.4</td>\n",
       "      <td>10.2</td>\n",
       "      <td>32.7</td>\n",
       "      <td>0.34</td>\n",
       "      <td>10</td>\n",
       "      <td>0.16</td>\n",
       "      <td>0.65</td>\n",
       "      <td>0.41</td>\n",
       "      <td>1</td>\n",
       "    </tr>\n",
       "    <tr>\n",
       "      <th>33</th>\n",
       "      <td>Ocean Pond</td>\n",
       "      <td>5.8</td>\n",
       "      <td>3.6</td>\n",
       "      <td>1.6</td>\n",
       "      <td>3.2</td>\n",
       "      <td>0.87</td>\n",
       "      <td>12</td>\n",
       "      <td>0.31</td>\n",
       "      <td>1.90</td>\n",
       "      <td>0.87</td>\n",
       "      <td>0</td>\n",
       "    </tr>\n",
       "    <tr>\n",
       "      <th>34</th>\n",
       "      <td>Ocheese Pond</td>\n",
       "      <td>4.5</td>\n",
       "      <td>4.4</td>\n",
       "      <td>1.1</td>\n",
       "      <td>3.2</td>\n",
       "      <td>0.56</td>\n",
       "      <td>13</td>\n",
       "      <td>0.25</td>\n",
       "      <td>1.02</td>\n",
       "      <td>0.56</td>\n",
       "      <td>0</td>\n",
       "    </tr>\n",
       "    <tr>\n",
       "      <th>35</th>\n",
       "      <td>Okeechobee</td>\n",
       "      <td>119.1</td>\n",
       "      <td>7.9</td>\n",
       "      <td>38.4</td>\n",
       "      <td>16.1</td>\n",
       "      <td>0.17</td>\n",
       "      <td>12</td>\n",
       "      <td>0.07</td>\n",
       "      <td>0.30</td>\n",
       "      <td>0.16</td>\n",
       "      <td>1</td>\n",
       "    </tr>\n",
       "    <tr>\n",
       "      <th>36</th>\n",
       "      <td>Orange</td>\n",
       "      <td>25.4</td>\n",
       "      <td>7.1</td>\n",
       "      <td>8.8</td>\n",
       "      <td>45.2</td>\n",
       "      <td>0.18</td>\n",
       "      <td>13</td>\n",
       "      <td>0.09</td>\n",
       "      <td>0.29</td>\n",
       "      <td>0.16</td>\n",
       "      <td>1</td>\n",
       "    </tr>\n",
       "    <tr>\n",
       "      <th>37</th>\n",
       "      <td>Panasoffkee</td>\n",
       "      <td>106.5</td>\n",
       "      <td>6.8</td>\n",
       "      <td>90.7</td>\n",
       "      <td>16.5</td>\n",
       "      <td>0.19</td>\n",
       "      <td>13</td>\n",
       "      <td>0.05</td>\n",
       "      <td>0.37</td>\n",
       "      <td>0.23</td>\n",
       "      <td>1</td>\n",
       "    </tr>\n",
       "    <tr>\n",
       "      <th>38</th>\n",
       "      <td>Parker</td>\n",
       "      <td>53.0</td>\n",
       "      <td>8.4</td>\n",
       "      <td>45.6</td>\n",
       "      <td>152.4</td>\n",
       "      <td>0.04</td>\n",
       "      <td>4</td>\n",
       "      <td>0.04</td>\n",
       "      <td>0.06</td>\n",
       "      <td>0.04</td>\n",
       "      <td>0</td>\n",
       "    </tr>\n",
       "    <tr>\n",
       "      <th>39</th>\n",
       "      <td>Placid</td>\n",
       "      <td>8.5</td>\n",
       "      <td>7.0</td>\n",
       "      <td>2.5</td>\n",
       "      <td>12.8</td>\n",
       "      <td>0.49</td>\n",
       "      <td>12</td>\n",
       "      <td>0.31</td>\n",
       "      <td>0.63</td>\n",
       "      <td>0.56</td>\n",
       "      <td>1</td>\n",
       "    </tr>\n",
       "    <tr>\n",
       "      <th>40</th>\n",
       "      <td>Puzzle</td>\n",
       "      <td>87.6</td>\n",
       "      <td>7.5</td>\n",
       "      <td>85.5</td>\n",
       "      <td>20.1</td>\n",
       "      <td>1.10</td>\n",
       "      <td>10</td>\n",
       "      <td>0.79</td>\n",
       "      <td>1.41</td>\n",
       "      <td>0.89</td>\n",
       "      <td>1</td>\n",
       "    </tr>\n",
       "    <tr>\n",
       "      <th>41</th>\n",
       "      <td>Rodman</td>\n",
       "      <td>114.0</td>\n",
       "      <td>7.0</td>\n",
       "      <td>72.6</td>\n",
       "      <td>6.4</td>\n",
       "      <td>0.16</td>\n",
       "      <td>14</td>\n",
       "      <td>0.04</td>\n",
       "      <td>0.26</td>\n",
       "      <td>0.18</td>\n",
       "      <td>1</td>\n",
       "    </tr>\n",
       "    <tr>\n",
       "      <th>42</th>\n",
       "      <td>Rousseau</td>\n",
       "      <td>97.5</td>\n",
       "      <td>6.8</td>\n",
       "      <td>45.5</td>\n",
       "      <td>6.2</td>\n",
       "      <td>0.10</td>\n",
       "      <td>12</td>\n",
       "      <td>0.05</td>\n",
       "      <td>0.26</td>\n",
       "      <td>0.19</td>\n",
       "      <td>1</td>\n",
       "    </tr>\n",
       "    <tr>\n",
       "      <th>43</th>\n",
       "      <td>Sampson</td>\n",
       "      <td>11.8</td>\n",
       "      <td>5.9</td>\n",
       "      <td>24.2</td>\n",
       "      <td>1.6</td>\n",
       "      <td>0.48</td>\n",
       "      <td>10</td>\n",
       "      <td>0.27</td>\n",
       "      <td>1.05</td>\n",
       "      <td>0.44</td>\n",
       "      <td>1</td>\n",
       "    </tr>\n",
       "    <tr>\n",
       "      <th>44</th>\n",
       "      <td>Shipp</td>\n",
       "      <td>66.5</td>\n",
       "      <td>8.3</td>\n",
       "      <td>26.0</td>\n",
       "      <td>68.2</td>\n",
       "      <td>0.21</td>\n",
       "      <td>12</td>\n",
       "      <td>0.05</td>\n",
       "      <td>0.48</td>\n",
       "      <td>0.16</td>\n",
       "      <td>1</td>\n",
       "    </tr>\n",
       "    <tr>\n",
       "      <th>45</th>\n",
       "      <td>Talquin</td>\n",
       "      <td>16.0</td>\n",
       "      <td>6.7</td>\n",
       "      <td>41.2</td>\n",
       "      <td>24.1</td>\n",
       "      <td>0.86</td>\n",
       "      <td>12</td>\n",
       "      <td>0.36</td>\n",
       "      <td>1.40</td>\n",
       "      <td>0.67</td>\n",
       "      <td>1</td>\n",
       "    </tr>\n",
       "    <tr>\n",
       "      <th>46</th>\n",
       "      <td>Tarpon</td>\n",
       "      <td>5.0</td>\n",
       "      <td>6.2</td>\n",
       "      <td>23.6</td>\n",
       "      <td>9.6</td>\n",
       "      <td>0.52</td>\n",
       "      <td>12</td>\n",
       "      <td>0.31</td>\n",
       "      <td>0.95</td>\n",
       "      <td>0.55</td>\n",
       "      <td>1</td>\n",
       "    </tr>\n",
       "    <tr>\n",
       "      <th>51</th>\n",
       "      <td>Tohopekaliga</td>\n",
       "      <td>25.6</td>\n",
       "      <td>6.2</td>\n",
       "      <td>12.6</td>\n",
       "      <td>27.7</td>\n",
       "      <td>0.65</td>\n",
       "      <td>44</td>\n",
       "      <td>0.30</td>\n",
       "      <td>1.10</td>\n",
       "      <td>0.58</td>\n",
       "      <td>1</td>\n",
       "    </tr>\n",
       "    <tr>\n",
       "      <th>47</th>\n",
       "      <td>Trafford</td>\n",
       "      <td>81.5</td>\n",
       "      <td>8.9</td>\n",
       "      <td>20.5</td>\n",
       "      <td>9.6</td>\n",
       "      <td>0.27</td>\n",
       "      <td>6</td>\n",
       "      <td>0.04</td>\n",
       "      <td>0.40</td>\n",
       "      <td>0.27</td>\n",
       "      <td>0</td>\n",
       "    </tr>\n",
       "    <tr>\n",
       "      <th>48</th>\n",
       "      <td>Trout</td>\n",
       "      <td>1.2</td>\n",
       "      <td>4.3</td>\n",
       "      <td>2.1</td>\n",
       "      <td>6.4</td>\n",
       "      <td>0.94</td>\n",
       "      <td>10</td>\n",
       "      <td>0.59</td>\n",
       "      <td>1.24</td>\n",
       "      <td>0.98</td>\n",
       "      <td>1</td>\n",
       "    </tr>\n",
       "    <tr>\n",
       "      <th>49</th>\n",
       "      <td>Tsala Apopka</td>\n",
       "      <td>34.0</td>\n",
       "      <td>7.0</td>\n",
       "      <td>13.1</td>\n",
       "      <td>4.6</td>\n",
       "      <td>0.40</td>\n",
       "      <td>12</td>\n",
       "      <td>0.08</td>\n",
       "      <td>0.90</td>\n",
       "      <td>0.31</td>\n",
       "      <td>1</td>\n",
       "    </tr>\n",
       "    <tr>\n",
       "      <th>50</th>\n",
       "      <td>Weir</td>\n",
       "      <td>15.5</td>\n",
       "      <td>6.9</td>\n",
       "      <td>5.2</td>\n",
       "      <td>16.5</td>\n",
       "      <td>0.43</td>\n",
       "      <td>11</td>\n",
       "      <td>0.23</td>\n",
       "      <td>0.69</td>\n",
       "      <td>0.43</td>\n",
       "      <td>1</td>\n",
       "    </tr>\n",
       "    <tr>\n",
       "      <th>52</th>\n",
       "      <td>Wildcat</td>\n",
       "      <td>17.3</td>\n",
       "      <td>5.2</td>\n",
       "      <td>3.0</td>\n",
       "      <td>2.6</td>\n",
       "      <td>0.25</td>\n",
       "      <td>12</td>\n",
       "      <td>0.15</td>\n",
       "      <td>0.40</td>\n",
       "      <td>0.28</td>\n",
       "      <td>1</td>\n",
       "    </tr>\n",
       "    <tr>\n",
       "      <th>53</th>\n",
       "      <td>Yale</td>\n",
       "      <td>71.8</td>\n",
       "      <td>7.9</td>\n",
       "      <td>20.5</td>\n",
       "      <td>8.8</td>\n",
       "      <td>0.27</td>\n",
       "      <td>12</td>\n",
       "      <td>0.15</td>\n",
       "      <td>0.51</td>\n",
       "      <td>0.25</td>\n",
       "      <td>1</td>\n",
       "    </tr>\n",
       "  </tbody>\n",
       "</table>\n",
       "</div>"
      ],
      "text/plain": [
       "               nombre  alcalinidad   PH  calcio  clorofila  mercurio  npeces  \\\n",
       "id                                                                             \n",
       "1           Alligator          5.9  6.1     3.0        0.7      1.23       5   \n",
       "2               Annie          3.5  5.1     1.9        3.2      1.33       7   \n",
       "3              Apopka        116.0  9.1    44.1      128.3      0.04       6   \n",
       "4        Blue Cypress         39.4  6.9    16.4        3.5      0.44      12   \n",
       "5               Brick          2.5  4.6     2.9        1.8      1.20      12   \n",
       "6              Bryant         19.6  7.3     4.5       44.1      0.27      14   \n",
       "7              Cherry          5.2  5.4     2.8        3.4      0.48      10   \n",
       "8            Crescent         71.4  8.1    55.2       33.7      0.19      12   \n",
       "9          Deer Point         26.4  5.8     9.2        1.6      0.83      24   \n",
       "10               Dias          4.8  6.4     4.6       22.5      0.81      12   \n",
       "11               Dorr          6.6  5.4     2.7       14.9      0.71      12   \n",
       "12               Down         16.5  7.2    13.8        4.0      0.50      12   \n",
       "13              Eaton         25.4  7.2    25.2       11.6      0.49       7   \n",
       "14  East Tohopekaliga          7.1  5.8     5.2        5.8      1.16      43   \n",
       "15            Farm-13        128.0  7.6    86.5       71.1      0.05      11   \n",
       "16             George         83.7  8.2    66.5       78.6      0.15      10   \n",
       "17            Griffin        108.5  8.7    35.6       80.1      0.19      40   \n",
       "18             Harney         61.3  7.8    57.4       13.9      0.77       6   \n",
       "19               Hart          6.4  5.8     4.0        4.6      1.08      10   \n",
       "20         Hatchineha         31.0  6.7    15.0       17.0      0.98       6   \n",
       "21            Iamonia          7.5  4.4     2.0        9.6      0.63      12   \n",
       "22          Istokpoga         17.3  6.7    10.7        9.5      0.56      12   \n",
       "23            Jackson         12.6  6.1     3.7       21.0      0.41      12   \n",
       "24          Josephine          7.0  6.9     6.3       32.1      0.73      12   \n",
       "25           Kingsley         10.5  5.5     6.3        1.6      0.34      10   \n",
       "26          Kissimmee         30.0  6.9    13.9       21.5      0.59      36   \n",
       "27          Lochloosa         55.4  7.3    15.9       24.7      0.34      10   \n",
       "28             Louisa          3.9  4.5     3.3        7.0      0.84       8   \n",
       "29         Miccasukee          5.5  4.8     1.7       14.8      0.50      11   \n",
       "30           Minneola          6.3  5.8     3.3        0.7      0.34      10   \n",
       "31             Monroe         67.0  7.8    58.6       43.8      0.28      10   \n",
       "32            Newmans         28.8  7.4    10.2       32.7      0.34      10   \n",
       "33         Ocean Pond          5.8  3.6     1.6        3.2      0.87      12   \n",
       "34       Ocheese Pond          4.5  4.4     1.1        3.2      0.56      13   \n",
       "35         Okeechobee        119.1  7.9    38.4       16.1      0.17      12   \n",
       "36             Orange         25.4  7.1     8.8       45.2      0.18      13   \n",
       "37        Panasoffkee        106.5  6.8    90.7       16.5      0.19      13   \n",
       "38             Parker         53.0  8.4    45.6      152.4      0.04       4   \n",
       "39             Placid          8.5  7.0     2.5       12.8      0.49      12   \n",
       "40             Puzzle         87.6  7.5    85.5       20.1      1.10      10   \n",
       "41             Rodman        114.0  7.0    72.6        6.4      0.16      14   \n",
       "42           Rousseau         97.5  6.8    45.5        6.2      0.10      12   \n",
       "43            Sampson         11.8  5.9    24.2        1.6      0.48      10   \n",
       "44              Shipp         66.5  8.3    26.0       68.2      0.21      12   \n",
       "45            Talquin         16.0  6.7    41.2       24.1      0.86      12   \n",
       "46             Tarpon          5.0  6.2    23.6        9.6      0.52      12   \n",
       "51       Tohopekaliga         25.6  6.2    12.6       27.7      0.65      44   \n",
       "47           Trafford         81.5  8.9    20.5        9.6      0.27       6   \n",
       "48              Trout          1.2  4.3     2.1        6.4      0.94      10   \n",
       "49       Tsala Apopka         34.0  7.0    13.1        4.6      0.40      12   \n",
       "50               Weir         15.5  6.9     5.2       16.5      0.43      11   \n",
       "52            Wildcat         17.3  5.2     3.0        2.6      0.25      12   \n",
       "53               Yale         71.8  7.9    20.5        8.8      0.27      12   \n",
       "\n",
       "    minmercurio  maxmercurio  estimacion  edad  \n",
       "id                                              \n",
       "1          0.85         1.43        1.53     1  \n",
       "2          0.92         1.90        1.33     0  \n",
       "3          0.04         0.06        0.04     0  \n",
       "4          0.13         0.84        0.44     0  \n",
       "5          0.69         1.50        1.33     1  \n",
       "6          0.04         0.48        0.25     1  \n",
       "7          0.30         0.72        0.45     1  \n",
       "8          0.08         0.38        0.16     1  \n",
       "9          0.26         1.40        0.72     1  \n",
       "10         0.41         1.47        0.81     1  \n",
       "11         0.52         0.86        0.71     1  \n",
       "12         0.10         0.73        0.51     1  \n",
       "13         0.26         1.01        0.54     1  \n",
       "14         0.50         2.03        1.00     1  \n",
       "15         0.04         0.11        0.05     0  \n",
       "16         0.12         0.18        0.15     1  \n",
       "17         0.07         0.43        0.19     1  \n",
       "18         0.32         1.50        0.49     1  \n",
       "19         0.64         1.33        1.02     1  \n",
       "20         0.67         1.44        0.70     1  \n",
       "21         0.33         0.93        0.45     1  \n",
       "22         0.37         0.94        0.59     1  \n",
       "23         0.25         0.61        0.41     0  \n",
       "24         0.33         2.04        0.81     1  \n",
       "25         0.25         0.62        0.42     1  \n",
       "26         0.23         1.12        0.53     1  \n",
       "27         0.17         0.52        0.31     1  \n",
       "28         0.59         1.38        0.87     1  \n",
       "29         0.31         0.84        0.50     0  \n",
       "30         0.19         0.69        0.47     1  \n",
       "31         0.16         0.59        0.25     1  \n",
       "32         0.16         0.65        0.41     1  \n",
       "33         0.31         1.90        0.87     0  \n",
       "34         0.25         1.02        0.56     0  \n",
       "35         0.07         0.30        0.16     1  \n",
       "36         0.09         0.29        0.16     1  \n",
       "37         0.05         0.37        0.23     1  \n",
       "38         0.04         0.06        0.04     0  \n",
       "39         0.31         0.63        0.56     1  \n",
       "40         0.79         1.41        0.89     1  \n",
       "41         0.04         0.26        0.18     1  \n",
       "42         0.05         0.26        0.19     1  \n",
       "43         0.27         1.05        0.44     1  \n",
       "44         0.05         0.48        0.16     1  \n",
       "45         0.36         1.40        0.67     1  \n",
       "46         0.31         0.95        0.55     1  \n",
       "51         0.30         1.10        0.58     1  \n",
       "47         0.04         0.40        0.27     0  \n",
       "48         0.59         1.24        0.98     1  \n",
       "49         0.08         0.90        0.31     1  \n",
       "50         0.23         0.69        0.43     1  \n",
       "52         0.15         0.40        0.28     1  \n",
       "53         0.15         0.51        0.25     1  "
      ]
     },
     "execution_count": 7,
     "metadata": {},
     "output_type": "execute_result"
    }
   ],
   "source": [
    "df"
   ]
  },
  {
   "cell_type": "markdown",
   "id": "bcea9f67",
   "metadata": {},
   "source": [
    "## Exploración de los Datos"
   ]
  },
  {
   "cell_type": "code",
   "execution_count": 8,
   "id": "65662caa",
   "metadata": {},
   "outputs": [
    {
     "data": {
      "text/html": [
       "<div>\n",
       "<style scoped>\n",
       "    .dataframe tbody tr th:only-of-type {\n",
       "        vertical-align: middle;\n",
       "    }\n",
       "\n",
       "    .dataframe tbody tr th {\n",
       "        vertical-align: top;\n",
       "    }\n",
       "\n",
       "    .dataframe thead th {\n",
       "        text-align: right;\n",
       "    }\n",
       "</style>\n",
       "<table border=\"1\" class=\"dataframe\">\n",
       "  <thead>\n",
       "    <tr style=\"text-align: right;\">\n",
       "      <th></th>\n",
       "      <th>alcalinidad</th>\n",
       "      <th>PH</th>\n",
       "      <th>calcio</th>\n",
       "      <th>clorofila</th>\n",
       "      <th>mercurio</th>\n",
       "      <th>npeces</th>\n",
       "      <th>minmercurio</th>\n",
       "      <th>maxmercurio</th>\n",
       "      <th>estimacion</th>\n",
       "      <th>edad</th>\n",
       "    </tr>\n",
       "  </thead>\n",
       "  <tbody>\n",
       "    <tr>\n",
       "      <th>count</th>\n",
       "      <td>53.000000</td>\n",
       "      <td>53.000000</td>\n",
       "      <td>53.000000</td>\n",
       "      <td>53.000000</td>\n",
       "      <td>53.000000</td>\n",
       "      <td>53.000000</td>\n",
       "      <td>53.000000</td>\n",
       "      <td>53.000000</td>\n",
       "      <td>53.000000</td>\n",
       "      <td>53.000000</td>\n",
       "    </tr>\n",
       "    <tr>\n",
       "      <th>mean</th>\n",
       "      <td>37.530189</td>\n",
       "      <td>6.590566</td>\n",
       "      <td>22.201887</td>\n",
       "      <td>23.116981</td>\n",
       "      <td>0.527170</td>\n",
       "      <td>13.056604</td>\n",
       "      <td>0.279811</td>\n",
       "      <td>0.874528</td>\n",
       "      <td>0.513208</td>\n",
       "      <td>0.811321</td>\n",
       "    </tr>\n",
       "    <tr>\n",
       "      <th>std</th>\n",
       "      <td>38.203527</td>\n",
       "      <td>1.288449</td>\n",
       "      <td>24.932574</td>\n",
       "      <td>30.816321</td>\n",
       "      <td>0.341036</td>\n",
       "      <td>8.560677</td>\n",
       "      <td>0.226406</td>\n",
       "      <td>0.522047</td>\n",
       "      <td>0.338729</td>\n",
       "      <td>0.394998</td>\n",
       "    </tr>\n",
       "    <tr>\n",
       "      <th>min</th>\n",
       "      <td>1.200000</td>\n",
       "      <td>3.600000</td>\n",
       "      <td>1.100000</td>\n",
       "      <td>0.700000</td>\n",
       "      <td>0.040000</td>\n",
       "      <td>4.000000</td>\n",
       "      <td>0.040000</td>\n",
       "      <td>0.060000</td>\n",
       "      <td>0.040000</td>\n",
       "      <td>0.000000</td>\n",
       "    </tr>\n",
       "    <tr>\n",
       "      <th>25%</th>\n",
       "      <td>6.600000</td>\n",
       "      <td>5.800000</td>\n",
       "      <td>3.300000</td>\n",
       "      <td>4.600000</td>\n",
       "      <td>0.270000</td>\n",
       "      <td>10.000000</td>\n",
       "      <td>0.090000</td>\n",
       "      <td>0.480000</td>\n",
       "      <td>0.250000</td>\n",
       "      <td>1.000000</td>\n",
       "    </tr>\n",
       "    <tr>\n",
       "      <th>50%</th>\n",
       "      <td>19.600000</td>\n",
       "      <td>6.800000</td>\n",
       "      <td>12.600000</td>\n",
       "      <td>12.800000</td>\n",
       "      <td>0.480000</td>\n",
       "      <td>12.000000</td>\n",
       "      <td>0.250000</td>\n",
       "      <td>0.840000</td>\n",
       "      <td>0.450000</td>\n",
       "      <td>1.000000</td>\n",
       "    </tr>\n",
       "    <tr>\n",
       "      <th>75%</th>\n",
       "      <td>66.500000</td>\n",
       "      <td>7.400000</td>\n",
       "      <td>35.600000</td>\n",
       "      <td>24.700000</td>\n",
       "      <td>0.770000</td>\n",
       "      <td>12.000000</td>\n",
       "      <td>0.330000</td>\n",
       "      <td>1.330000</td>\n",
       "      <td>0.700000</td>\n",
       "      <td>1.000000</td>\n",
       "    </tr>\n",
       "    <tr>\n",
       "      <th>max</th>\n",
       "      <td>128.000000</td>\n",
       "      <td>9.100000</td>\n",
       "      <td>90.700000</td>\n",
       "      <td>152.400000</td>\n",
       "      <td>1.330000</td>\n",
       "      <td>44.000000</td>\n",
       "      <td>0.920000</td>\n",
       "      <td>2.040000</td>\n",
       "      <td>1.530000</td>\n",
       "      <td>1.000000</td>\n",
       "    </tr>\n",
       "  </tbody>\n",
       "</table>\n",
       "</div>"
      ],
      "text/plain": [
       "       alcalinidad         PH     calcio   clorofila   mercurio     npeces  \\\n",
       "count    53.000000  53.000000  53.000000   53.000000  53.000000  53.000000   \n",
       "mean     37.530189   6.590566  22.201887   23.116981   0.527170  13.056604   \n",
       "std      38.203527   1.288449  24.932574   30.816321   0.341036   8.560677   \n",
       "min       1.200000   3.600000   1.100000    0.700000   0.040000   4.000000   \n",
       "25%       6.600000   5.800000   3.300000    4.600000   0.270000  10.000000   \n",
       "50%      19.600000   6.800000  12.600000   12.800000   0.480000  12.000000   \n",
       "75%      66.500000   7.400000  35.600000   24.700000   0.770000  12.000000   \n",
       "max     128.000000   9.100000  90.700000  152.400000   1.330000  44.000000   \n",
       "\n",
       "       minmercurio  maxmercurio  estimacion       edad  \n",
       "count    53.000000    53.000000   53.000000  53.000000  \n",
       "mean      0.279811     0.874528    0.513208   0.811321  \n",
       "std       0.226406     0.522047    0.338729   0.394998  \n",
       "min       0.040000     0.060000    0.040000   0.000000  \n",
       "25%       0.090000     0.480000    0.250000   1.000000  \n",
       "50%       0.250000     0.840000    0.450000   1.000000  \n",
       "75%       0.330000     1.330000    0.700000   1.000000  \n",
       "max       0.920000     2.040000    1.530000   1.000000  "
      ]
     },
     "execution_count": 8,
     "metadata": {},
     "output_type": "execute_result"
    }
   ],
   "source": [
    "df.describe()"
   ]
  },
  {
   "cell_type": "code",
   "execution_count": 9,
   "id": "f692676c",
   "metadata": {},
   "outputs": [
    {
     "name": "stdout",
     "output_type": "stream",
     "text": [
      "<class 'pandas.core.frame.DataFrame'>\n",
      "Int64Index: 53 entries, 1 to 53\n",
      "Data columns (total 11 columns):\n",
      " #   Column       Non-Null Count  Dtype  \n",
      "---  ------       --------------  -----  \n",
      " 0   nombre       53 non-null     object \n",
      " 1   alcalinidad  53 non-null     float64\n",
      " 2   PH           53 non-null     float64\n",
      " 3   calcio       53 non-null     float64\n",
      " 4   clorofila    53 non-null     float64\n",
      " 5   mercurio     53 non-null     float64\n",
      " 6   npeces       53 non-null     int64  \n",
      " 7   minmercurio  53 non-null     float64\n",
      " 8   maxmercurio  53 non-null     float64\n",
      " 9   estimacion   53 non-null     float64\n",
      " 10  edad         53 non-null     int64  \n",
      "dtypes: float64(8), int64(2), object(1)\n",
      "memory usage: 5.0+ KB\n"
     ]
    }
   ],
   "source": [
    "df.info()"
   ]
  },
  {
   "cell_type": "code",
   "execution_count": 10,
   "id": "930a53ed",
   "metadata": {},
   "outputs": [
    {
     "data": {
      "text/plain": [
       "'sigma = df.alcalinidad.std()\\nmu = df.alcalinidad.mean()\\ndomain = np.linspace(df.alcalinidad.min(), df.alcalinidad.max())'"
      ]
     },
     "execution_count": 10,
     "metadata": {},
     "output_type": "execute_result"
    }
   ],
   "source": [
    "\"\"\"sigma = df.alcalinidad.std()\n",
    "mu = df.alcalinidad.mean()\n",
    "domain = np.linspace(df.alcalinidad.min(), df.alcalinidad.max())\"\"\""
   ]
  },
  {
   "cell_type": "code",
   "execution_count": 11,
   "id": "735b9d56",
   "metadata": {},
   "outputs": [
    {
     "data": {
      "image/png": "[encoded data removed]",
      "text/plain": [
       "<Figure size 432x288 with 1 Axes>"
      ]
     },
     "metadata": {
      "needs_background": "light"
     },
     "output_type": "display_data"
    }
   ],
   "source": [
    "# plt.plot(domain, norm.pdf(domain, mu, sigma))\n",
    "plt.hist(df.alcalinidad, edgecolor = \"black\", alpha = 0.5, density = True)\n",
    "plt.show()"
   ]
  },
  {
   "cell_type": "code",
   "execution_count": 12,
   "id": "a3cd2c3b",
   "metadata": {},
   "outputs": [
    {
     "data": {
      "image/png": "[encoded data removed]",
      "text/plain": [
       "<Figure size 432x288 with 1 Axes>"
      ]
     },
     "metadata": {
      "needs_background": "light"
     },
     "output_type": "display_data"
    }
   ],
   "source": [
    "plt.title('alcalinidad')\n",
    "plt.boxplot(df.alcalinidad)\n",
    "plt.show()"
   ]
  },
  {
   "cell_type": "code",
   "execution_count": 13,
   "id": "eaaeca1e",
   "metadata": {},
   "outputs": [
    {
     "data": {
      "text/plain": [
       "array([[<AxesSubplot:title={'center':'alcalinidad'}>,\n",
       "        <AxesSubplot:title={'center':'PH'}>,\n",
       "        <AxesSubplot:title={'center':'calcio'}>],\n",
       "       [<AxesSubplot:title={'center':'clorofila'}>,\n",
       "        <AxesSubplot:title={'center':'mercurio'}>,\n",
       "        <AxesSubplot:title={'center':'npeces'}>],\n",
       "       [<AxesSubplot:title={'center':'minmercurio'}>,\n",
       "        <AxesSubplot:title={'center':'maxmercurio'}>,\n",
       "        <AxesSubplot:title={'center':'estimacion'}>],\n",
       "       [<AxesSubplot:title={'center':'edad'}>, <AxesSubplot:>,\n",
       "        <AxesSubplot:>]], dtype=object)"
      ]
     },
     "execution_count": 13,
     "metadata": {},
     "output_type": "execute_result"
    },
    {
     "data": {
      "image/png": "[encoded data removed]",
      "text/plain": [
       "<Figure size 1080x1080 with 12 Axes>"
      ]
     },
     "metadata": {
      "needs_background": "light"
     },
     "output_type": "display_data"
    }
   ],
   "source": [
    "df.hist(figsize = (15,15))"
   ]
  },
  {
   "cell_type": "code",
   "execution_count": 14,
   "id": "faa86bee",
   "metadata": {},
   "outputs": [
    {
     "data": {
      "image/png": "[encoded data removed]",
      "text/plain": [
       "<Figure size 432x288 with 1 Axes>"
      ]
     },
     "metadata": {
      "needs_background": "light"
     },
     "output_type": "display_data"
    }
   ],
   "source": [
    "plt.hist(df.estimacion, edgecolor = \"black\", alpha = 0.5, density = True)\n",
    "plt.show()"
   ]
  },
  {
   "cell_type": "code",
   "execution_count": 15,
   "id": "d4d1f74e",
   "metadata": {},
   "outputs": [
    {
     "data": {
      "image/png": "[encoded data removed]",
      "text/plain": [
       "<Figure size 432x288 with 1 Axes>"
      ]
     },
     "metadata": {
      "needs_background": "light"
     },
     "output_type": "display_data"
    }
   ],
   "source": [
    "plt.hist(df.calcio, edgecolor = \"black\", alpha = 0.5, density = True)\n",
    "plt.show()"
   ]
  },
  {
   "cell_type": "code",
   "execution_count": 16,
   "id": "4972cf62",
   "metadata": {},
   "outputs": [
    {
     "data": {
      "text/html": [
       "<div>\n",
       "<style scoped>\n",
       "    .dataframe tbody tr th:only-of-type {\n",
       "        vertical-align: middle;\n",
       "    }\n",
       "\n",
       "    .dataframe tbody tr th {\n",
       "        vertical-align: top;\n",
       "    }\n",
       "\n",
       "    .dataframe thead th {\n",
       "        text-align: right;\n",
       "    }\n",
       "</style>\n",
       "<table border=\"1\" class=\"dataframe\">\n",
       "  <thead>\n",
       "    <tr style=\"text-align: right;\">\n",
       "      <th></th>\n",
       "      <th>alcalinidad</th>\n",
       "      <th>PH</th>\n",
       "      <th>calcio</th>\n",
       "      <th>clorofila</th>\n",
       "      <th>mercurio</th>\n",
       "      <th>npeces</th>\n",
       "      <th>minmercurio</th>\n",
       "      <th>maxmercurio</th>\n",
       "      <th>estimacion</th>\n",
       "      <th>edad</th>\n",
       "    </tr>\n",
       "  </thead>\n",
       "  <tbody>\n",
       "    <tr>\n",
       "      <th>alcalinidad</th>\n",
       "      <td>1.000000</td>\n",
       "      <td>0.719166</td>\n",
       "      <td>0.832604</td>\n",
       "      <td>0.477531</td>\n",
       "      <td>-0.593897</td>\n",
       "      <td>0.010291</td>\n",
       "      <td>-0.525357</td>\n",
       "      <td>-0.604796</td>\n",
       "      <td>-0.627958</td>\n",
       "      <td>-0.094939</td>\n",
       "    </tr>\n",
       "    <tr>\n",
       "      <th>PH</th>\n",
       "      <td>0.719166</td>\n",
       "      <td>1.000000</td>\n",
       "      <td>0.577133</td>\n",
       "      <td>0.608483</td>\n",
       "      <td>-0.575400</td>\n",
       "      <td>-0.018606</td>\n",
       "      <td>-0.541965</td>\n",
       "      <td>-0.551815</td>\n",
       "      <td>-0.612849</td>\n",
       "      <td>0.038000</td>\n",
       "    </tr>\n",
       "    <tr>\n",
       "      <th>calcio</th>\n",
       "      <td>0.832604</td>\n",
       "      <td>0.577133</td>\n",
       "      <td>1.000000</td>\n",
       "      <td>0.409914</td>\n",
       "      <td>-0.400680</td>\n",
       "      <td>-0.089379</td>\n",
       "      <td>-0.332476</td>\n",
       "      <td>-0.407917</td>\n",
       "      <td>-0.464409</td>\n",
       "      <td>-0.002111</td>\n",
       "    </tr>\n",
       "    <tr>\n",
       "      <th>clorofila</th>\n",
       "      <td>0.477531</td>\n",
       "      <td>0.608483</td>\n",
       "      <td>0.409914</td>\n",
       "      <td>1.000000</td>\n",
       "      <td>-0.491375</td>\n",
       "      <td>-0.011820</td>\n",
       "      <td>-0.400459</td>\n",
       "      <td>-0.484972</td>\n",
       "      <td>-0.506442</td>\n",
       "      <td>-0.283002</td>\n",
       "    </tr>\n",
       "    <tr>\n",
       "      <th>mercurio</th>\n",
       "      <td>-0.593897</td>\n",
       "      <td>-0.575400</td>\n",
       "      <td>-0.400680</td>\n",
       "      <td>-0.491375</td>\n",
       "      <td>1.000000</td>\n",
       "      <td>0.079034</td>\n",
       "      <td>0.927205</td>\n",
       "      <td>0.915864</td>\n",
       "      <td>0.959215</td>\n",
       "      <td>0.108739</td>\n",
       "    </tr>\n",
       "    <tr>\n",
       "      <th>npeces</th>\n",
       "      <td>0.010291</td>\n",
       "      <td>-0.018606</td>\n",
       "      <td>-0.089379</td>\n",
       "      <td>-0.011820</td>\n",
       "      <td>0.079034</td>\n",
       "      <td>1.000000</td>\n",
       "      <td>-0.081653</td>\n",
       "      <td>0.161092</td>\n",
       "      <td>0.025800</td>\n",
       "      <td>0.207956</td>\n",
       "    </tr>\n",
       "    <tr>\n",
       "      <th>minmercurio</th>\n",
       "      <td>-0.525357</td>\n",
       "      <td>-0.541965</td>\n",
       "      <td>-0.332476</td>\n",
       "      <td>-0.400459</td>\n",
       "      <td>0.927205</td>\n",
       "      <td>-0.081653</td>\n",
       "      <td>1.000000</td>\n",
       "      <td>0.765353</td>\n",
       "      <td>0.919089</td>\n",
       "      <td>0.100662</td>\n",
       "    </tr>\n",
       "    <tr>\n",
       "      <th>maxmercurio</th>\n",
       "      <td>-0.604796</td>\n",
       "      <td>-0.551815</td>\n",
       "      <td>-0.407917</td>\n",
       "      <td>-0.484972</td>\n",
       "      <td>0.915864</td>\n",
       "      <td>0.161092</td>\n",
       "      <td>0.765353</td>\n",
       "      <td>1.000000</td>\n",
       "      <td>0.859758</td>\n",
       "      <td>0.093752</td>\n",
       "    </tr>\n",
       "    <tr>\n",
       "      <th>estimacion</th>\n",
       "      <td>-0.627958</td>\n",
       "      <td>-0.612849</td>\n",
       "      <td>-0.464409</td>\n",
       "      <td>-0.506442</td>\n",
       "      <td>0.959215</td>\n",
       "      <td>0.025800</td>\n",
       "      <td>0.919089</td>\n",
       "      <td>0.859758</td>\n",
       "      <td>1.000000</td>\n",
       "      <td>0.089411</td>\n",
       "    </tr>\n",
       "    <tr>\n",
       "      <th>edad</th>\n",
       "      <td>-0.094939</td>\n",
       "      <td>0.038000</td>\n",
       "      <td>-0.002111</td>\n",
       "      <td>-0.283002</td>\n",
       "      <td>0.108739</td>\n",
       "      <td>0.207956</td>\n",
       "      <td>0.100662</td>\n",
       "      <td>0.093752</td>\n",
       "      <td>0.089411</td>\n",
       "      <td>1.000000</td>\n",
       "    </tr>\n",
       "  </tbody>\n",
       "</table>\n",
       "</div>"
      ],
      "text/plain": [
       "             alcalinidad        PH    calcio  clorofila  mercurio    npeces  \\\n",
       "alcalinidad     1.000000  0.719166  0.832604   0.477531 -0.593897  0.010291   \n",
       "PH              0.719166  1.000000  0.577133   0.608483 -0.575400 -0.018606   \n",
       "calcio          0.832604  0.577133  1.000000   0.409914 -0.400680 -0.089379   \n",
       "clorofila       0.477531  0.608483  0.409914   1.000000 -0.491375 -0.011820   \n",
       "mercurio       -0.593897 -0.575400 -0.400680  -0.491375  1.000000  0.079034   \n",
       "npeces          0.010291 -0.018606 -0.089379  -0.011820  0.079034  1.000000   \n",
       "minmercurio    -0.525357 -0.541965 -0.332476  -0.400459  0.927205 -0.081653   \n",
       "maxmercurio    -0.604796 -0.551815 -0.407917  -0.484972  0.915864  0.161092   \n",
       "estimacion     -0.627958 -0.612849 -0.464409  -0.506442  0.959215  0.025800   \n",
       "edad           -0.094939  0.038000 -0.002111  -0.283002  0.108739  0.207956   \n",
       "\n",
       "             minmercurio  maxmercurio  estimacion      edad  \n",
       "alcalinidad    -0.525357    -0.604796   -0.627958 -0.094939  \n",
       "PH             -0.541965    -0.551815   -0.612849  0.038000  \n",
       "calcio         -0.332476    -0.407917   -0.464409 -0.002111  \n",
       "clorofila      -0.400459    -0.484972   -0.506442 -0.283002  \n",
       "mercurio        0.927205     0.915864    0.959215  0.108739  \n",
       "npeces         -0.081653     0.161092    0.025800  0.207956  \n",
       "minmercurio     1.000000     0.765353    0.919089  0.100662  \n",
       "maxmercurio     0.765353     1.000000    0.859758  0.093752  \n",
       "estimacion      0.919089     0.859758    1.000000  0.089411  \n",
       "edad            0.100662     0.093752    0.089411  1.000000  "
      ]
     },
     "execution_count": 16,
     "metadata": {},
     "output_type": "execute_result"
    }
   ],
   "source": [
    "df.corr()"
   ]
  },
  {
   "cell_type": "code",
   "execution_count": 17,
   "id": "22870d81",
   "metadata": {},
   "outputs": [
    {
     "data": {
      "image/png": "[encoded data removed]",
      "text/plain": [
       "<Figure size 864x720 with 2 Axes>"
      ]
     },
     "metadata": {
      "needs_background": "light"
     },
     "output_type": "display_data"
    }
   ],
   "source": [
    "# clf = clf.select_dtypes(include=['float64','int']) \n",
    "corr = df.corr(method = 'pearson')\n",
    "f, ax = plt.subplots(figsize=(12, 10))\n",
    "mask = np.triu(np.ones_like(corr, dtype=bool))\n",
    "cmap = sns.diverging_palette(230, 20, as_cmap=True)\n",
    "sns.heatmap(corr, annot=True, mask = mask, cmap=cmap)\n",
    "plt.show()"
   ]
  },
  {
   "cell_type": "code",
   "execution_count": 18,
   "id": "854e54c1",
   "metadata": {},
   "outputs": [
    {
     "data": {
      "image/png": "[encoded data removed]",
      "text/plain": [
       "<Figure size 432x288 with 1 Axes>"
      ]
     },
     "metadata": {
      "needs_background": "light"
     },
     "output_type": "display_data"
    }
   ],
   "source": [
    "plt.hist(df.clorofila, edgecolor = \"black\", alpha = 0.5, density = True)\n",
    "plt.show()"
   ]
  },
  {
   "cell_type": "code",
   "execution_count": 19,
   "id": "162f111e",
   "metadata": {},
   "outputs": [
    {
     "data": {
      "text/plain": [
       "<matplotlib.collections.PathCollection at 0x2c22d192160>"
      ]
     },
     "execution_count": 19,
     "metadata": {},
     "output_type": "execute_result"
    },
    {
     "data": {
      "image/png": "[encoded data removed]",
      "text/plain": [
       "<Figure size 432x288 with 1 Axes>"
      ]
     },
     "metadata": {
      "needs_background": "light"
     },
     "output_type": "display_data"
    }
   ],
   "source": [
    "x = df['mercurio']\n",
    "y = df['alcalinidad']\n",
    "fig,ax = plt.subplots()\n",
    "ax.scatter(x,y)"
   ]
  },
  {
   "cell_type": "code",
   "execution_count": 20,
   "id": "c106a538",
   "metadata": {},
   "outputs": [
    {
     "data": {
      "text/plain": [
       "<matplotlib.collections.PathCollection at 0x2c22cfeb250>"
      ]
     },
     "execution_count": 20,
     "metadata": {},
     "output_type": "execute_result"
    },
    {
     "data": {
      "image/png": "[encoded data removed]",
      "text/plain": [
       "<Figure size 432x288 with 1 Axes>"
      ]
     },
     "metadata": {
      "needs_background": "light"
     },
     "output_type": "display_data"
    }
   ],
   "source": [
    "x = df['PH']\n",
    "y = df['alcalinidad']\n",
    "fig,ax = plt.subplots()\n",
    "ax.scatter(x,y)"
   ]
  },
  {
   "cell_type": "code",
   "execution_count": 21,
   "id": "2df2c614",
   "metadata": {},
   "outputs": [
    {
     "data": {
      "text/plain": [
       "<matplotlib.collections.PathCollection at 0x2c22d16d940>"
      ]
     },
     "execution_count": 21,
     "metadata": {},
     "output_type": "execute_result"
    },
    {
     "data": {
      "image/png": "[encoded data removed]",
      "text/plain": [
       "<Figure size 432x288 with 1 Axes>"
      ]
     },
     "metadata": {
      "needs_background": "light"
     },
     "output_type": "display_data"
    }
   ],
   "source": [
    "x = df['calcio']\n",
    "y = df['alcalinidad']\n",
    "fig,ax = plt.subplots()\n",
    "ax.scatter(x,y)"
   ]
  },
  {
   "cell_type": "code",
   "execution_count": 22,
   "id": "8a458c75",
   "metadata": {},
   "outputs": [
    {
     "data": {
      "text/plain": [
       "<matplotlib.collections.PathCollection at 0x2c22d0025e0>"
      ]
     },
     "execution_count": 22,
     "metadata": {},
     "output_type": "execute_result"
    },
    {
     "data": {
      "image/png": "[encoded data removed]",
      "text/plain": [
       "<Figure size 432x288 with 1 Axes>"
      ]
     },
     "metadata": {
      "needs_background": "light"
     },
     "output_type": "display_data"
    }
   ],
   "source": [
    "x = df['estimacion']\n",
    "y = df['mercurio']\n",
    "fig,ax = plt.subplots()\n",
    "ax.scatter(x,y)"
   ]
  },
  {
   "cell_type": "code",
   "execution_count": 23,
   "id": "bbb31f9d",
   "metadata": {},
   "outputs": [
    {
     "data": {
      "image/png": "[encoded data removed]",
      "text/plain": [
       "<Figure size 432x288 with 1 Axes>"
      ]
     },
     "metadata": {
      "needs_background": "light"
     },
     "output_type": "display_data"
    }
   ],
   "source": [
    "plt.hist(df.mercurio, edgecolor = \"black\", alpha = 0.5, density = True)\n",
    "plt.show()"
   ]
  },
  {
   "cell_type": "markdown",
   "id": "2a32696a",
   "metadata": {},
   "source": [
    "##### Moda"
   ]
  },
  {
   "cell_type": "code",
   "execution_count": 24,
   "id": "7402d662",
   "metadata": {},
   "outputs": [
    {
     "data": {
      "text/plain": [
       "ModeResult(mode=array([['Alligator', 17.3, 5.8, 3.0, 1.6, 0.34, 12, 0.04, 0.06, 0.16, 1]],\n",
       "      dtype=object), count=array([[ 1,  2,  4,  2,  3,  4, 20,  6,  2,  4, 43]]))"
      ]
     },
     "execution_count": 24,
     "metadata": {},
     "output_type": "execute_result"
    }
   ],
   "source": [
    "from scipy import stats  \n",
    "\n",
    "stats.mode(df)"
   ]
  },
  {
   "cell_type": "markdown",
   "id": "5f8885d2",
   "metadata": {},
   "source": [
    "## Distribuciones"
   ]
  },
  {
   "cell_type": "code",
   "execution_count": 25,
   "id": "c7e61d9c",
   "metadata": {},
   "outputs": [],
   "source": [
    "#datos = datos[(datos.age > 15) & (datos.male ==0)]\n",
    "mercurio = df['mercurio']\n",
    "alcalinidad = df['alcalinidad']\n",
    "PH = df['PH']\n",
    "calcio = df['calcio']\n",
    "npeces = df['npeces']"
   ]
  },
  {
   "cell_type": "code",
   "execution_count": 26,
   "id": "cced034e",
   "metadata": {},
   "outputs": [
    {
     "data": {
      "image/png": "[encoded data removed]",
      "text/plain": [
       "<Figure size 504x288 with 1 Axes>"
      ]
     },
     "metadata": {
      "needs_background": "light"
     },
     "output_type": "display_data"
    }
   ],
   "source": [
    "# Histograma + curva normal teórica\n",
    "# ==============================================================================\n",
    "\n",
    "# Valores de la media (mu) y desviación típica (sigma) de los datos\n",
    "mu, sigma = stats.norm.fit(mercurio)\n",
    "\n",
    "# Valores teóricos de la normal en el rango observado\n",
    "x_hat = np.linspace(min(mercurio), max(mercurio), num=100)\n",
    "y_hat = stats.norm.pdf(x_hat, mu, sigma)\n",
    "\n",
    "# Gráfico\n",
    "fig, ax = plt.subplots(figsize=(7,4))\n",
    "ax.plot(x_hat, y_hat, linewidth=2, label='normal')\n",
    "ax.hist(x=mercurio, density=True, bins=30, color=\"#3182bd\", alpha=0.5)\n",
    "ax.plot(mercurio, np.full_like(mercurio, -0.01), '|k', markeredgewidth=1)\n",
    "ax.set_title('Distribución mercurio')\n",
    "ax.set_xlabel('mercurio')\n",
    "ax.set_ylabel('Densidad de probabilidad')\n",
    "ax.legend();"
   ]
  },
  {
   "cell_type": "code",
   "execution_count": 27,
   "id": "162d5c61",
   "metadata": {},
   "outputs": [
    {
     "data": {
      "image/png": "[encoded data removed]",
      "text/plain": [
       "<Figure size 504x288 with 1 Axes>"
      ]
     },
     "metadata": {
      "needs_background": "light"
     },
     "output_type": "display_data"
    }
   ],
   "source": [
    "# Histograma + curva normal teórica\n",
    "# ==============================================================================\n",
    "\n",
    "# Valores de la media (mu) y desviación típica (sigma) de los datos\n",
    "mu, sigma = stats.norm.fit(alcalinidad)\n",
    "\n",
    "# Valores teóricos de la normal en el rango observado\n",
    "x_hat = np.linspace(min(alcalinidad), max(alcalinidad), num=100)\n",
    "y_hat = stats.norm.pdf(x_hat, mu, sigma)\n",
    "\n",
    "# Gráfico\n",
    "fig, ax = plt.subplots(figsize=(7,4))\n",
    "ax.plot(x_hat, y_hat, linewidth=2, label='normal')\n",
    "ax.hist(x=alcalinidad, density=True, bins=30, color=\"#3182bd\", alpha=0.5)\n",
    "ax.plot(alcalinidad, np.full_like(alcalinidad, -0.01), '|k', markeredgewidth=1)\n",
    "ax.set_title('Distribución alcalinidad')\n",
    "ax.set_xlabel('alcalinidad')\n",
    "ax.set_ylabel('Densidad de probabilidad')\n",
    "ax.legend();"
   ]
  },
  {
   "cell_type": "code",
   "execution_count": 28,
   "id": "eb83ee2d",
   "metadata": {},
   "outputs": [
    {
     "data": {
      "image/png": "[encoded data removed]",
      "text/plain": [
       "<Figure size 504x288 with 1 Axes>"
      ]
     },
     "metadata": {
      "needs_background": "light"
     },
     "output_type": "display_data"
    }
   ],
   "source": [
    "# Histograma + curva normal teórica\n",
    "# ==============================================================================\n",
    "\n",
    "# Valores de la media (mu) y desviación típica (sigma) de los datos\n",
    "mu, sigma = stats.norm.fit(PH)\n",
    "\n",
    "# Valores teóricos de la normal en el rango observado\n",
    "x_hat = np.linspace(min(PH), max(PH), num=100)\n",
    "y_hat = stats.norm.pdf(x_hat, mu, sigma)\n",
    "\n",
    "# Gráfico\n",
    "fig, ax = plt.subplots(figsize=(7,4))\n",
    "ax.plot(x_hat, y_hat, linewidth=2, label='normal')\n",
    "ax.hist(x=PH, density=True, bins=30, color=\"#3182bd\", alpha=0.5)\n",
    "ax.plot(PH, np.full_like(PH, -0.01), '|k', markeredgewidth=1)\n",
    "ax.set_title('Distribución PH')\n",
    "ax.set_xlabel('PH')\n",
    "ax.set_ylabel('Densidad de probabilidad')\n",
    "ax.legend();"
   ]
  },
  {
   "cell_type": "code",
   "execution_count": 29,
   "id": "59e13565",
   "metadata": {},
   "outputs": [
    {
     "data": {
      "image/png": "[encoded data removed]",
      "text/plain": [
       "<Figure size 504x288 with 1 Axes>"
      ]
     },
     "metadata": {
      "needs_background": "light"
     },
     "output_type": "display_data"
    }
   ],
   "source": [
    "# Histograma + curva normal teórica\n",
    "# ==============================================================================\n",
    "\n",
    "# Valores de la media (mu) y desviación típica (sigma) de los datos\n",
    "mu, sigma = stats.norm.fit(PH)\n",
    "\n",
    "# Valores teóricos de la normal en el rango observado\n",
    "x_hat = np.linspace(min(calcio), max(calcio), num=100)\n",
    "y_hat = stats.norm.pdf(x_hat, mu, sigma)\n",
    "\n",
    "# Gráfico\n",
    "fig, ax = plt.subplots(figsize=(7,4))\n",
    "ax.plot(x_hat, y_hat, linewidth=2, label='normal')\n",
    "ax.hist(x=calcio, density=True, bins=30, color=\"#3182bd\", alpha=0.5)\n",
    "ax.plot(calcio, np.full_like(calcio, -0.01), '|k', markeredgewidth=1)\n",
    "ax.set_title('Distribución calcio')\n",
    "ax.set_xlabel('calcio')\n",
    "ax.set_ylabel('Densidad de probabilidad')\n",
    "ax.legend();"
   ]
  },
  {
   "cell_type": "code",
   "execution_count": 30,
   "id": "6cfee22f",
   "metadata": {},
   "outputs": [
    {
     "data": {
      "image/png": "[encoded data removed]",
      "text/plain": [
       "<Figure size 504x288 with 1 Axes>"
      ]
     },
     "metadata": {
      "needs_background": "light"
     },
     "output_type": "display_data"
    }
   ],
   "source": [
    "# Histograma + curva normal teórica\n",
    "# ==============================================================================\n",
    "\n",
    "# Valores de la media (mu) y desviación típica (sigma) de los datos\n",
    "mu, sigma = stats.norm.fit(npeces)\n",
    "\n",
    "# Valores teóricos de la normal en el rango observado\n",
    "x_hat = np.linspace(min(npeces), max(npeces), num=100)\n",
    "y_hat = stats.norm.pdf(x_hat, mu, sigma)\n",
    "\n",
    "# Gráfico\n",
    "fig, ax = plt.subplots(figsize=(7,4))\n",
    "ax.plot(x_hat, y_hat, linewidth=2, label='normal')\n",
    "ax.hist(x=npeces, density=True, bins=30, color=\"#3182bd\", alpha=0.5)\n",
    "ax.plot(npeces, np.full_like(npeces, -0.01), '|k', markeredgewidth=1)\n",
    "ax.set_title('Distribución npeces')\n",
    "ax.set_xlabel('npeces')\n",
    "ax.set_ylabel('Densidad de probabilidad')\n",
    "ax.legend();"
   ]
  },
  {
   "cell_type": "markdown",
   "id": "ceab7eaf",
   "metadata": {},
   "source": [
    "## QQplots"
   ]
  },
  {
   "cell_type": "code",
   "execution_count": 31,
   "id": "e0036468",
   "metadata": {},
   "outputs": [
    {
     "data": {
      "image/png": "[encoded data removed]",
      "text/plain": [
       "<Figure size 504x288 with 1 Axes>"
      ]
     },
     "metadata": {
      "needs_background": "light"
     },
     "output_type": "display_data"
    }
   ],
   "source": [
    "# Gráfico Q-Q\n",
    "# ==============================================================================\n",
    "fig, ax = plt.subplots(figsize=(7,4))\n",
    "sm.qqplot(\n",
    "    mercurio,\n",
    "    fit   = True,\n",
    "    line  = 'q',\n",
    "    alpha = 0.4,\n",
    "    lw    = 2,\n",
    "    ax    = ax\n",
    ")\n",
    "ax.set_title('Gráfico Q-Q del mercurio', fontsize = 10,\n",
    "             fontweight = \"bold\")\n",
    "ax.tick_params(labelsize = 7)"
   ]
  },
  {
   "cell_type": "code",
   "execution_count": 32,
   "id": "c1902195",
   "metadata": {},
   "outputs": [
    {
     "data": {
      "image/png": "[encoded data removed]",
      "text/plain": [
       "<Figure size 504x288 with 1 Axes>"
      ]
     },
     "metadata": {
      "needs_background": "light"
     },
     "output_type": "display_data"
    }
   ],
   "source": [
    "# Gráfico Q-Q\n",
    "# ==============================================================================\n",
    "fig, ax = plt.subplots(figsize=(7,4))\n",
    "sm.qqplot(\n",
    "    alcalinidad,\n",
    "    fit   = True,\n",
    "    line  = 'q',\n",
    "    alpha = 0.4,\n",
    "    lw    = 2,\n",
    "    ax    = ax\n",
    ")\n",
    "ax.set_title('Gráfico Q-Q del alcalinidad', fontsize = 10,\n",
    "             fontweight = \"bold\")\n",
    "ax.tick_params(labelsize = 7)"
   ]
  },
  {
   "cell_type": "code",
   "execution_count": 33,
   "id": "8fa26d08",
   "metadata": {},
   "outputs": [
    {
     "data": {
      "image/png": "[encoded data removed]",
      "text/plain": [
       "<Figure size 504x288 with 1 Axes>"
      ]
     },
     "metadata": {
      "needs_background": "light"
     },
     "output_type": "display_data"
    }
   ],
   "source": [
    "# Gráfico Q-Q\n",
    "# ==============================================================================\n",
    "fig, ax = plt.subplots(figsize=(7,4))\n",
    "sm.qqplot(\n",
    "    PH,\n",
    "    fit   = True,\n",
    "    line  = 'q',\n",
    "    alpha = 0.4,\n",
    "    lw    = 2,\n",
    "    ax    = ax\n",
    ")\n",
    "ax.set_title('Gráfico Q-Q del PH', fontsize = 10,\n",
    "             fontweight = \"bold\")\n",
    "ax.tick_params(labelsize = 7)"
   ]
  },
  {
   "cell_type": "code",
   "execution_count": 34,
   "id": "062365ea",
   "metadata": {},
   "outputs": [
    {
     "data": {
      "image/png": "[encoded data removed]",
      "text/plain": [
       "<Figure size 504x288 with 1 Axes>"
      ]
     },
     "metadata": {
      "needs_background": "light"
     },
     "output_type": "display_data"
    }
   ],
   "source": [
    "# Gráfico Q-Q\n",
    "# ==============================================================================\n",
    "fig, ax = plt.subplots(figsize=(7,4))\n",
    "sm.qqplot(\n",
    "    calcio,\n",
    "    fit   = True,\n",
    "    line  = 'q',\n",
    "    alpha = 0.4,\n",
    "    lw    = 2,\n",
    "    ax    = ax\n",
    ")\n",
    "ax.set_title('Gráfico Q-Q del calcio', fontsize = 10,\n",
    "             fontweight = \"bold\")\n",
    "ax.tick_params(labelsize = 7)"
   ]
  },
  {
   "cell_type": "code",
   "execution_count": 35,
   "id": "28f9e851",
   "metadata": {},
   "outputs": [
    {
     "data": {
      "image/png": "[encoded data removed]",
      "text/plain": [
       "<Figure size 504x288 with 1 Axes>"
      ]
     },
     "metadata": {
      "needs_background": "light"
     },
     "output_type": "display_data"
    }
   ],
   "source": [
    "# Gráfico Q-Q\n",
    "# ==============================================================================\n",
    "fig, ax = plt.subplots(figsize=(7,4))\n",
    "sm.qqplot(\n",
    "    npeces,\n",
    "    fit   = True,\n",
    "    line  = 'q',\n",
    "    alpha = 0.4,\n",
    "    lw    = 2,\n",
    "    ax    = ax\n",
    ")\n",
    "ax.set_title('Gráfico Q-Q del npeces', fontsize = 10,\n",
    "             fontweight = \"bold\")\n",
    "ax.tick_params(labelsize = 7)"
   ]
  },
  {
   "cell_type": "markdown",
   "id": "4eb27a1e",
   "metadata": {},
   "source": [
    "## Análisis de Hipótesis"
   ]
  },
  {
   "cell_type": "code",
   "execution_count": 36,
   "id": "ec6e8c0f",
   "metadata": {},
   "outputs": [
    {
     "name": "stdout",
     "output_type": "stream",
     "text": [
      "Kursotis: -0.5392793261283986\n",
      "Skewness: 0.615985316604268\n"
     ]
    }
   ],
   "source": [
    "print('Kursotis:', stats.kurtosis(mercurio))\n",
    "print('Skewness:', stats.skew(mercurio))"
   ]
  },
  {
   "cell_type": "code",
   "execution_count": 37,
   "id": "d1319a4a",
   "metadata": {},
   "outputs": [
    {
     "name": "stdout",
     "output_type": "stream",
     "text": [
      "Kursotis: -0.3723123427917301\n",
      "Skewness: 0.995971540190347\n"
     ]
    }
   ],
   "source": [
    "print('Kursotis:', stats.kurtosis(alcalinidad))\n",
    "print('Skewness:', stats.skew(alcalinidad))"
   ]
  },
  {
   "cell_type": "code",
   "execution_count": 38,
   "id": "4556ecfe",
   "metadata": {},
   "outputs": [
    {
     "name": "stdout",
     "output_type": "stream",
     "text": [
      "Kursotis: -0.5316990819046379\n",
      "Skewness: -0.25300371445201947\n"
     ]
    }
   ],
   "source": [
    "print('Kursotis:', stats.kurtosis(PH))\n",
    "print('Skewness:', stats.skew(PH))"
   ]
  },
  {
   "cell_type": "code",
   "execution_count": 39,
   "id": "bd8f1f53",
   "metadata": {},
   "outputs": [
    {
     "name": "stdout",
     "output_type": "stream",
     "text": [
      "Kursotis: 0.7533350422627985\n",
      "Skewness: 1.3423994221171138\n"
     ]
    }
   ],
   "source": [
    "print('Kursotis:', stats.kurtosis(calcio))\n",
    "print('Skewness:', stats.skew(calcio))"
   ]
  },
  {
   "cell_type": "code",
   "execution_count": 40,
   "id": "3c600d9a",
   "metadata": {},
   "outputs": [
    {
     "name": "stdout",
     "output_type": "stream",
     "text": [
      "Kursotis: 6.358775112078357\n",
      "Skewness: 2.655682430492345\n"
     ]
    }
   ],
   "source": [
    "print('Kursotis:', stats.kurtosis(npeces))\n",
    "print('Skewness:', stats.skew(npeces))"
   ]
  },
  {
   "cell_type": "markdown",
   "id": "dfaf7f6e",
   "metadata": {},
   "source": [
    "##"
   ]
  },
  {
   "cell_type": "code",
   "execution_count": 41,
   "id": "85823edf",
   "metadata": {},
   "outputs": [
    {
     "data": {
      "text/plain": [
       "ShapiroResult(statistic=0.9421269297599792, pvalue=0.012508947402238846)"
      ]
     },
     "execution_count": 41,
     "metadata": {},
     "output_type": "execute_result"
    }
   ],
   "source": [
    "# Shapiro-Wilk test\n",
    "# ==============================================================================\n",
    "shapiro_test = stats.shapiro(mercurio)\n",
    "shapiro_test"
   ]
  },
  {
   "cell_type": "code",
   "execution_count": 42,
   "id": "908c636e",
   "metadata": {},
   "outputs": [
    {
     "data": {
      "text/plain": [
       "ShapiroResult(statistic=0.8203012943267822, pvalue=1.5374524764411035e-06)"
      ]
     },
     "execution_count": 42,
     "metadata": {},
     "output_type": "execute_result"
    }
   ],
   "source": [
    "# Shapiro-Wilk test\n",
    "# ==============================================================================\n",
    "shapiro_test = stats.shapiro(alcalinidad)\n",
    "shapiro_test"
   ]
  },
  {
   "cell_type": "code",
   "execution_count": 43,
   "id": "0578a3f4",
   "metadata": {},
   "outputs": [
    {
     "data": {
      "text/plain": [
       "ShapiroResult(statistic=0.9809678196907043, pvalue=0.5551783442497253)"
      ]
     },
     "execution_count": 43,
     "metadata": {},
     "output_type": "execute_result"
    }
   ],
   "source": [
    "# Shapiro-Wilk test\n",
    "# ==============================================================================\n",
    "shapiro_test = stats.shapiro(PH)\n",
    "shapiro_test"
   ]
  },
  {
   "cell_type": "code",
   "execution_count": 44,
   "id": "1b7a9a4e",
   "metadata": {},
   "outputs": [
    {
     "data": {
      "text/plain": [
       "ShapiroResult(statistic=0.7913432121276855, pvalue=3.090418942974793e-07)"
      ]
     },
     "execution_count": 44,
     "metadata": {},
     "output_type": "execute_result"
    }
   ],
   "source": [
    "# Shapiro-Wilk test\n",
    "# ==============================================================================\n",
    "shapiro_test = stats.shapiro(calcio)\n",
    "shapiro_test"
   ]
  },
  {
   "cell_type": "code",
   "execution_count": 45,
   "id": "deb1b467",
   "metadata": {},
   "outputs": [
    {
     "data": {
      "text/plain": [
       "ShapiroResult(statistic=0.5829699039459229, pvalue=4.9876252433689316e-11)"
      ]
     },
     "execution_count": 45,
     "metadata": {},
     "output_type": "execute_result"
    }
   ],
   "source": [
    "# Shapiro-Wilk test\n",
    "# ==============================================================================\n",
    "shapiro_test = stats.shapiro(npeces)\n",
    "shapiro_test"
   ]
  },
  {
   "cell_type": "code",
   "execution_count": 46,
   "id": "d1682f55",
   "metadata": {},
   "outputs": [
    {
     "name": "stdout",
     "output_type": "stream",
     "text": [
      "Estadístico = 4.220529123327874, p-value = 0.1212058957577724\n"
     ]
    }
   ],
   "source": [
    "# D'Agostino's K-squared test\n",
    "# ==============================================================================\n",
    "k2, p_value = stats.normaltest(mercurio)\n",
    "print(f\"Estadístico = {k2}, p-value = {p_value}\")"
   ]
  },
  {
   "cell_type": "code",
   "execution_count": 47,
   "id": "4301b07a",
   "metadata": {},
   "outputs": [
    {
     "name": "stdout",
     "output_type": "stream",
     "text": [
      "Estadístico = 8.45127698441738, p-value = 0.014615999527870203\n"
     ]
    }
   ],
   "source": [
    "# D'Agostino's K-squared test\n",
    "# ==============================================================================\n",
    "k2, p_value = stats.normaltest(alcalinidad)\n",
    "print(f\"Estadístico = {k2}, p-value = {p_value}\")"
   ]
  },
  {
   "cell_type": "code",
   "execution_count": 48,
   "id": "d60b504a",
   "metadata": {},
   "outputs": [
    {
     "name": "stdout",
     "output_type": "stream",
     "text": [
      "Estadístico = 15.16551242729508, p-value = 0.0005091559447168802\n"
     ]
    }
   ],
   "source": [
    "# D'Agostino's K-squared test\n",
    "# ==============================================================================\n",
    "k2, p_value = stats.normaltest(calcio)\n",
    "print(f\"Estadístico = {k2}, p-value = {p_value}\")"
   ]
  },
  {
   "cell_type": "code",
   "execution_count": 49,
   "id": "d560aada",
   "metadata": {},
   "outputs": [
    {
     "name": "stdout",
     "output_type": "stream",
     "text": [
      "Estadístico = 47.47518669393924, p-value = 4.9078829412583656e-11\n"
     ]
    }
   ],
   "source": [
    "# D'Agostino's K-squared test\n",
    "# ==============================================================================\n",
    "k2, p_value = stats.normaltest(npeces)\n",
    "print(f\"Estadístico = {k2}, p-value = {p_value}\")"
   ]
  },
  {
   "cell_type": "code",
   "execution_count": 50,
   "id": "3713daea",
   "metadata": {},
   "outputs": [
    {
     "name": "stdout",
     "output_type": "stream",
     "text": [
      "Estadístico = 1.1920185572316295, p-value = 0.5510061663930924\n"
     ]
    }
   ],
   "source": [
    "# D'Agostino's K-squared test\n",
    "# ==============================================================================\n",
    "k2, p_value = stats.normaltest(PH)\n",
    "print(f\"Estadístico = {k2}, p-value = {p_value}\")"
   ]
  },
  {
   "cell_type": "markdown",
   "id": "1f398954",
   "metadata": {},
   "source": [
    "De acuerdo a los análisis realizados, en las variables de alcalinidad y calcio se rechaza la normalidad."
   ]
  },
  {
   "cell_type": "code",
   "execution_count": 55,
   "id": "7eafef92",
   "metadata": {},
   "outputs": [
    {
     "data": {
      "text/plain": [
       "<AxesSubplot:>"
      ]
     },
     "execution_count": 55,
     "metadata": {},
     "output_type": "execute_result"
    },
    {
     "data": {
      "image/png": "[encoded data removed]",
      "text/plain": [
       "<Figure size 432x288 with 1 Axes>"
      ]
     },
     "metadata": {
      "needs_background": "light"
     },
     "output_type": "display_data"
    }
   ],
   "source": [
    "df.boxplot(column=['alcalinidad', 'PH', 'calcio', 'mercurio', 'npeces'])"
   ]
  },
  {
   "cell_type": "code",
   "execution_count": 56,
   "id": "804a3400",
   "metadata": {},
   "outputs": [
    {
     "data": {
      "text/plain": [
       "<AxesSubplot:>"
      ]
     },
     "execution_count": 56,
     "metadata": {},
     "output_type": "execute_result"
    },
    {
     "data": {
      "image/png": "[encoded data removed]",
      "text/plain": [
       "<Figure size 432x288 with 1 Axes>"
      ]
     },
     "metadata": {
      "needs_background": "light"
     },
     "output_type": "display_data"
    }
   ],
   "source": [
    "df.boxplot(column='PH')"
   ]
  },
  {
   "cell_type": "code",
   "execution_count": 58,
   "id": "305d6214",
   "metadata": {},
   "outputs": [
    {
     "data": {
      "text/plain": [
       "<AxesSubplot:>"
      ]
     },
     "execution_count": 58,
     "metadata": {},
     "output_type": "execute_result"
    },
    {
     "data": {
      "image/png": "[encoded data removed]",
      "text/plain": [
       "<Figure size 432x288 with 1 Axes>"
      ]
     },
     "metadata": {
      "needs_background": "light"
     },
     "output_type": "display_data"
    }
   ],
   "source": [
    "df.boxplot(column='calcio')"
   ]
  },
  {
   "cell_type": "code",
   "execution_count": 59,
   "id": "93681091",
   "metadata": {},
   "outputs": [
    {
     "data": {
      "text/plain": [
       "<AxesSubplot:>"
      ]
     },
     "execution_count": 59,
     "metadata": {},
     "output_type": "execute_result"
    },
    {
     "data": {
      "image/png": "[encoded data removed]",
      "text/plain": [
       "<Figure size 432x288 with 1 Axes>"
      ]
     },
     "metadata": {
      "needs_background": "light"
     },
     "output_type": "display_data"
    }
   ],
   "source": [
    "df.boxplot(column='mercurio')"
   ]
  },
  {
   "cell_type": "code",
   "execution_count": 60,
   "id": "46b9d55b",
   "metadata": {},
   "outputs": [
    {
     "data": {
      "text/plain": [
       "<AxesSubplot:>"
      ]
     },
     "execution_count": 60,
     "metadata": {},
     "output_type": "execute_result"
    },
    {
     "data": {
      "image/png": "[encoded data removed]",
      "text/plain": [
       "<Figure size 432x288 with 1 Axes>"
      ]
     },
     "metadata": {
      "needs_background": "light"
     },
     "output_type": "display_data"
    }
   ],
   "source": [
    "df.boxplot(column='npeces')"
   ]
  },
  {
   "cell_type": "markdown",
   "id": "27019b50",
   "metadata": {},
   "source": [
    "La variable con valores atípicos notables es npeces."
   ]
  },
  {
   "cell_type": "code",
   "execution_count": null,
   "id": "94f94d37",
   "metadata": {},
   "outputs": [],
   "source": []
  }
 ],
 "metadata": {
  "kernelspec": {
   "display_name": "Python 3 (ipykernel)",
   "language": "python",
   "name": "python3"
  },
  "language_info": {
   "codemirror_mode": {
    "name": "ipython",
    "version": 3
   },
   "file_extension": ".py",
   "mimetype": "text/x-python",
   "name": "python",
   "nbconvert_exporter": "python",
   "pygments_lexer": "ipython3",
   "version": "3.9.12"
  }
 },
 "nbformat": 4,
 "nbformat_minor": 5
}
